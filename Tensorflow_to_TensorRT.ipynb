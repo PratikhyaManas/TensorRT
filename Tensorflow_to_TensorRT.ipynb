{
  "nbformat": 4,
  "nbformat_minor": 0,
  "metadata": {
    "kernelspec": {
      "display_name": "Python [conda env:TF1120_GPU]",
      "language": "python",
      "name": "conda-env-TF1120_GPU-py"
    },
    "language_info": {
      "codemirror_mode": {
        "name": "ipython",
        "version": 3
      },
      "file_extension": ".py",
      "mimetype": "text/x-python",
      "name": "python",
      "nbconvert_exporter": "python",
      "pygments_lexer": "ipython3",
      "version": "3.5.6"
    },
    "colab": {
      "name": "Tensorflow_to_TensorRT.ipynb",
      "provenance": [],
      "toc_visible": true,
      "include_colab_link": true
    },
    "accelerator": "GPU"
  },
  "cells": [
    {
      "cell_type": "markdown",
      "metadata": {
        "id": "view-in-github",
        "colab_type": "text"
      },
      "source": [
        "<a href=\"https://colab.research.google.com/github/PratikhyaManas/TensorRT/blob/master/Tensorflow_to_TensorRT.ipynb\" target=\"_parent\"><img src=\"https://colab.research.google.com/assets/colab-badge.svg\" alt=\"Open In Colab\"/></a>"
      ]
    },
    {
      "cell_type": "markdown",
      "metadata": {
        "id": "BcqgaLv6P3ct",
        "colab_type": "text"
      },
      "source": [
        "## What is TensorRT?\n",
        "\n",
        "TensorRT is an optimization tool provided by NVIDIA that applies graph optimization and layer fusion, and finds the fastest implementation of a deep learning model. In other words, TensorRT will optimize our deep learning model so that we expect a faster inference time than the original model (before optimization), such as 5x faster or 2x faster. The bigger model we have, the bigger space for TensorRT to optimize the model. Furthermore, this TensorRT supports all NVIDIA GPU devices, such as 1080Ti, Titan XP for Desktop, and Jetson TX1, TX2 for embedded device."
      ]
    },
    {
      "cell_type": "markdown",
      "metadata": {
        "id": "0Q-e6SBxZQEa",
        "colab_type": "text"
      },
      "source": [
        "# Mount Google Drive"
      ]
    },
    {
      "cell_type": "code",
      "metadata": {
        "id": "TMo7yGgoZM1q",
        "colab_type": "code",
        "outputId": "c9214fef-8f78-4308-ca1a-72286e833bcb",
        "colab": {
          "base_uri": "https://localhost:8080/",
          "height": 34
        }
      },
      "source": [
        "# Mounting Google Drive\n",
        "from google.colab import drive\n",
        "drive.mount('/content/drive',force_remount=True)"
      ],
      "execution_count": 0,
      "outputs": [
        {
          "output_type": "stream",
          "text": [
            "Mounted at /content/drive\n"
          ],
          "name": "stdout"
        }
      ]
    },
    {
      "cell_type": "markdown",
      "metadata": {
        "id": "sFV2JIPLZlTK",
        "colab_type": "text"
      },
      "source": [
        "# Switch the current directory to the project folder of Google Drive"
      ]
    },
    {
      "cell_type": "code",
      "metadata": {
        "id": "HzL_Y3-aZZ1F",
        "colab_type": "code",
        "colab": {}
      },
      "source": [
        "import os\n",
        "project_path = '/content/drive/My Drive/ML_Datasets/nvidia'\n",
        "os.chdir(project_path)"
      ],
      "execution_count": 0,
      "outputs": []
    },
    {
      "cell_type": "markdown",
      "metadata": {
        "id": "dzZn9-Q-aMgf",
        "colab_type": "text"
      },
      "source": [
        "# Check the version of CUDA,TensorFlow"
      ]
    },
    {
      "cell_type": "code",
      "metadata": {
        "id": "4v4eLCPcZ3jb",
        "colab_type": "code",
        "outputId": "1c180532-3662-4350-9915-e05ae9f6b255",
        "colab": {
          "base_uri": "https://localhost:8080/",
          "height": 118
        }
      },
      "source": [
        "!nvcc --version\n",
        "%tensorflow_version 1.x\n",
        "import tensorflow as tf\n",
        "print(tf.__version__)"
      ],
      "execution_count": 0,
      "outputs": [
        {
          "output_type": "stream",
          "text": [
            "nvcc: NVIDIA (R) Cuda compiler driver\n",
            "Copyright (c) 2005-2019 NVIDIA Corporation\n",
            "Built on Sun_Jul_28_19:07:16_PDT_2019\n",
            "Cuda compilation tools, release 10.1, V10.1.243\n",
            "TensorFlow is already loaded. Please restart the runtime to change versions.\n",
            "1.15.2\n"
          ],
          "name": "stdout"
        }
      ]
    },
    {
      "cell_type": "code",
      "metadata": {
        "id": "e1-accxPcVUp",
        "colab_type": "code",
        "outputId": "e62af9a2-3369-4c34-80c7-c5682f426cee",
        "colab": {
          "base_uri": "https://localhost:8080/",
          "height": 440
        }
      },
      "source": [
        "# !wget -O nv-tensorrt-repo-ubuntu1804-cuda10.0-trt5.1.2.2-rc-20190227_1-1_amd64.deb https://www.dropbox.com/s/45pz13r4e8ip4bl/nv-tensorrt-repo-ubuntu1804-cuda10.0-trt5.1.2.2-rc-20190227_1-1_amd64.deb?dl=0"
      ],
      "execution_count": 0,
      "outputs": [
        {
          "output_type": "stream",
          "text": [
            "--2020-04-06 21:44:05--  https://www.dropbox.com/s/45pz13r4e8ip4bl/nv-tensorrt-repo-ubuntu1804-cuda10.0-trt5.1.2.2-rc-20190227_1-1_amd64.deb?dl=0\n",
            "Resolving www.dropbox.com (www.dropbox.com)... 162.125.65.1, 2620:100:6021:1::a27d:4101\n",
            "Connecting to www.dropbox.com (www.dropbox.com)|162.125.65.1|:443... connected.\n",
            "HTTP request sent, awaiting response... 301 Moved Permanently\n",
            "Location: /s/raw/45pz13r4e8ip4bl/nv-tensorrt-repo-ubuntu1804-cuda10.0-trt5.1.2.2-rc-20190227_1-1_amd64.deb [following]\n",
            "--2020-04-06 21:44:05--  https://www.dropbox.com/s/raw/45pz13r4e8ip4bl/nv-tensorrt-repo-ubuntu1804-cuda10.0-trt5.1.2.2-rc-20190227_1-1_amd64.deb\n",
            "Reusing existing connection to www.dropbox.com:443.\n",
            "HTTP request sent, awaiting response... 302 Found\n",
            "Location: https://uca0d5b1bbfd2b57f00039b11f88.dl.dropboxusercontent.com/cd/0/inline/A1W4kdj9LrMc2dUHSCO3TmtbwUeqhmI5hmJ3ks545H-zErTQBqnop53vvFkGTMhfq2xNmQVPFFKMhjLRqhDjuBdvuRYCBx8EbF8ZMVlYALTt7A/file# [following]\n",
            "--2020-04-06 21:44:05--  https://uca0d5b1bbfd2b57f00039b11f88.dl.dropboxusercontent.com/cd/0/inline/A1W4kdj9LrMc2dUHSCO3TmtbwUeqhmI5hmJ3ks545H-zErTQBqnop53vvFkGTMhfq2xNmQVPFFKMhjLRqhDjuBdvuRYCBx8EbF8ZMVlYALTt7A/file\n",
            "Resolving uca0d5b1bbfd2b57f00039b11f88.dl.dropboxusercontent.com (uca0d5b1bbfd2b57f00039b11f88.dl.dropboxusercontent.com)... 162.125.65.6, 2620:100:6021:6::a27d:4106\n",
            "Connecting to uca0d5b1bbfd2b57f00039b11f88.dl.dropboxusercontent.com (uca0d5b1bbfd2b57f00039b11f88.dl.dropboxusercontent.com)|162.125.65.6|:443... connected.\n",
            "HTTP request sent, awaiting response... 302 FOUND\n",
            "Location: /cd/0/inline2/A1XvxjR56aroz5Z1eMT-IPD7IE-MridTN-FzraPJpdXr8NrsPNKKj3CM1BAKUj90OBRSJ-JGTwGsqwbOf_PkoKnwSe88_1FfuNS7XB5apGKYnLhxwwQrFgBgI_hCSMmwjMalvrbj5KS3xDHOKHVM03LdqEHdIkrKvmlkfNVYGEIS2t-DEIPriJXJMtWxOd3UurSF2KelhF0EVV6E28C9fgQOC2spaniDJ3JvMfuzTSV6OnA0KmaEENT2wXt4L5ZSKop_gZEIqVGqkF-NBMWK0-mRfPN9paZfWl2d_YS2FhmD-7zRzZpmcVrC8zxYZ6nSRJOwrILzidKf8CUAF_8DRvV4/file [following]\n",
            "--2020-04-06 21:44:06--  https://uca0d5b1bbfd2b57f00039b11f88.dl.dropboxusercontent.com/cd/0/inline2/A1XvxjR56aroz5Z1eMT-IPD7IE-MridTN-FzraPJpdXr8NrsPNKKj3CM1BAKUj90OBRSJ-JGTwGsqwbOf_PkoKnwSe88_1FfuNS7XB5apGKYnLhxwwQrFgBgI_hCSMmwjMalvrbj5KS3xDHOKHVM03LdqEHdIkrKvmlkfNVYGEIS2t-DEIPriJXJMtWxOd3UurSF2KelhF0EVV6E28C9fgQOC2spaniDJ3JvMfuzTSV6OnA0KmaEENT2wXt4L5ZSKop_gZEIqVGqkF-NBMWK0-mRfPN9paZfWl2d_YS2FhmD-7zRzZpmcVrC8zxYZ6nSRJOwrILzidKf8CUAF_8DRvV4/file\n",
            "Reusing existing connection to uca0d5b1bbfd2b57f00039b11f88.dl.dropboxusercontent.com:443.\n",
            "HTTP request sent, awaiting response... 200 OK\n",
            "Length: 843900902 (805M) [application/x-debian-package]\n",
            "Saving to: ‘nv-tensorrt-repo-ubuntu1804-cuda10.0-trt5.1.2.2-rc-20190227_1-1_amd64.deb’\n",
            "\n",
            "nv-tensorrt-repo-ub 100%[===================>] 804.81M  10.7MB/s    in 67s     \n",
            "\n",
            "2020-04-06 21:45:14 (11.9 MB/s) - ‘nv-tensorrt-repo-ubuntu1804-cuda10.0-trt5.1.2.2-rc-20190227_1-1_amd64.deb’ saved [843900902/843900902]\n",
            "\n"
          ],
          "name": "stdout"
        }
      ]
    },
    {
      "cell_type": "markdown",
      "metadata": {
        "id": "IJKXB2PDFCl-",
        "colab_type": "text"
      },
      "source": [
        "# Installing the additional TensorRT packages"
      ]
    },
    {
      "cell_type": "code",
      "metadata": {
        "id": "Tsp3LTH-dWv9",
        "colab_type": "code",
        "outputId": "b2688a99-d762-4ff7-d021-3cdc484181a8",
        "colab": {
          "base_uri": "https://localhost:8080/",
          "height": 1000
        }
      },
      "source": [
        "!dpkg -i nv-tensorrt-repo-ubuntu1804-cuda10.0-trt7.0.0.11-ga-20191216_1-1_amd64.deb\n",
        "!apt-key add /var/nv-tensorrt-repo-cuda10.0-trt7.0.0.11-ga-20191216/7fa2af80.pub\n",
        "!apt-get update\n",
        "!apt-get install -y --no-install-recommends libnvinfer7=7.0.0-1+cuda10.0\n",
        "!apt-get install -y --no-install-recommends libnvinfer-plugin7=7.0.0-1+cuda10.0\n",
        "!apt-get install -y --no-install-recommends libnvparsers7=7.0.0-1+cuda10.0\n",
        "!apt-get install -y --no-install-recommends libnvonnxparsers7=7.0.0-1+cuda10.0\n",
        "!apt-get install -y --no-install-recommends libnvinfer-bin=7.0.0-1+cuda10.0\n",
        "!apt-get install -y --no-install-recommends libnvinfer-dev=7.0.0-1+cuda10.0\n",
        "!apt-get install -y --no-install-recommends libnvinfer-plugin-dev=7.0.0-1+cuda10.0\n",
        "!apt-get install -y --no-install-recommends libnvparsers-dev=7.0.0-1+cuda10.0\n",
        "!apt-get install -y --no-install-recommends libnvonnxparsers-dev=7.0.0-1+cuda10.0\n",
        "!apt-get install -y --no-install-recommends libnvinfer-samples=7.0.0-1+cuda10.0\n",
        "!apt-get install -y --no-install-recommends libnvinfer-doc=7.0.0-1+cuda10.0 \n",
        "!apt-get install tensorrt\n",
        "!apt-get install uff-converter-tf"
      ],
      "execution_count": 0,
      "outputs": [
        {
          "output_type": "stream",
          "text": [
            "(Reading database ... \r(Reading database ... 5%\r(Reading database ... 10%\r(Reading database ... 15%\r(Reading database ... 20%\r(Reading database ... 25%\r(Reading database ... 30%\r(Reading database ... 35%\r(Reading database ... 40%\r(Reading database ... 45%\r(Reading database ... 50%\r(Reading database ... 55%\r(Reading database ... 60%\r(Reading database ... 65%\r(Reading database ... 70%\r(Reading database ... 75%\r(Reading database ... 80%\r(Reading database ... 85%\r(Reading database ... 90%\r(Reading database ... 95%\r(Reading database ... 100%\r(Reading database ... 144907 files and directories currently installed.)\n",
            "Preparing to unpack nv-tensorrt-repo-ubuntu1804-cuda10.0-trt7.0.0.11-ga-20191216_1-1_amd64.deb ...\n",
            "Unpacking nv-tensorrt-repo-ubuntu1804-cuda10.0-trt7.0.0.11-ga-20191216 (1-1) over (1-1) ...\n",
            "Setting up nv-tensorrt-repo-ubuntu1804-cuda10.0-trt7.0.0.11-ga-20191216 (1-1) ...\n",
            "OK\n",
            "Get:1 file:/var/nv-tensorrt-repo-cuda10.0-trt5.1.2.2-rc-20190227  InRelease\n",
            "Ign:1 file:/var/nv-tensorrt-repo-cuda10.0-trt5.1.2.2-rc-20190227  InRelease\n",
            "Get:2 file:/var/nv-tensorrt-repo-cuda10.0-trt7.0.0.11-ga-20191216  InRelease\n",
            "Ign:2 file:/var/nv-tensorrt-repo-cuda10.0-trt7.0.0.11-ga-20191216  InRelease\n",
            "Get:3 file:/var/nv-tensorrt-repo-cuda10.0-trt5.1.2.2-rc-20190227  Release [574 B]\n",
            "Get:4 file:/var/nv-tensorrt-repo-cuda10.0-trt7.0.0.11-ga-20191216  Release [574 B]\n",
            "Get:3 file:/var/nv-tensorrt-repo-cuda10.0-trt5.1.2.2-rc-20190227  Release [574 B]\n",
            "Get:4 file:/var/nv-tensorrt-repo-cuda10.0-trt7.0.0.11-ga-20191216  Release [574 B]\n",
            "Get:5 http://security.ubuntu.com/ubuntu bionic-security InRelease [88.7 kB]\n",
            "Hit:6 http://archive.ubuntu.com/ubuntu bionic InRelease\n",
            "Get:7 http://archive.ubuntu.com/ubuntu bionic-updates InRelease [88.7 kB]\n",
            "Hit:8 http://ppa.launchpad.net/graphics-drivers/ppa/ubuntu bionic InRelease\n",
            "Hit:9 http://ppa.launchpad.net/marutter/c2d4u3.5/ubuntu bionic InRelease\n",
            "Get:10 http://archive.ubuntu.com/ubuntu bionic-backports InRelease [74.6 kB]\n",
            "Ign:12 https://developer.download.nvidia.com/compute/cuda/repos/ubuntu1804/x86_64  InRelease\n",
            "Hit:13 https://cloud.r-project.org/bin/linux/ubuntu bionic-cran35/ InRelease\n",
            "Ign:15 https://developer.download.nvidia.com/compute/machine-learning/repos/ubuntu1804/x86_64  InRelease\n",
            "Hit:16 https://developer.download.nvidia.com/compute/cuda/repos/ubuntu1804/x86_64  Release\n",
            "Hit:17 https://developer.download.nvidia.com/compute/machine-learning/repos/ubuntu1804/x86_64  Release\n",
            "Fetched 252 kB in 2s (145 kB/s)\n",
            "Reading package lists... Done\n",
            "Reading package lists... Done\n",
            "Building dependency tree       \n",
            "Reading state information... Done\n",
            "The following packages were automatically installed and are no longer required:\n",
            "  cuda-cudart-10-2 cuda-cudart-dev-10-2 cuda-driver-dev-10-2 cuda-license-10-2\n",
            "Use 'apt autoremove' to remove them.\n",
            "The following packages will be REMOVED:\n",
            "  libnvinfer-dev libnvinfer-plugin-dev libnvinfer-plugin7 libnvonnxparsers-dev\n",
            "  libnvonnxparsers7 libnvparsers-dev libnvparsers7 python3-libnvinfer\n",
            "  python3-libnvinfer-dev\n",
            "The following packages will be DOWNGRADED:\n",
            "  libnvinfer7\n",
            "0 upgraded, 0 newly installed, 1 downgraded, 9 to remove and 32 not upgraded.\n",
            "Need to get 0 B/69.6 MB of archives.\n",
            "After this operation, 344 MB disk space will be freed.\n",
            "Get:1 file:/var/nv-tensorrt-repo-cuda10.0-trt7.0.0.11-ga-20191216  libnvinfer7 7.0.0-1+cuda10.0 [69.6 MB]\n",
            "(Reading database ... 144907 files and directories currently installed.)\n",
            "Removing python3-libnvinfer-dev (7.0.0-1+cuda10.2) ...\n",
            "Removing libnvonnxparsers-dev (7.0.0-1+cuda10.2) ...\n",
            "Removing libnvinfer-plugin-dev (7.0.0-1+cuda10.2) ...\n",
            "Removing python3-libnvinfer (7.0.0-1+cuda10.2) ...\n",
            "Removing libnvinfer-plugin7 (7.0.0-1+cuda10.2) ...\n",
            "Removing libnvonnxparsers7 (7.0.0-1+cuda10.2) ...\n",
            "Removing libnvparsers-dev (7.0.0-1+cuda10.2) ...\n",
            "Removing libnvparsers7 (7.0.0-1+cuda10.2) ...\n",
            "Removing libnvinfer-dev (7.0.0-1+cuda10.2) ...\n",
            "dpkg: warning: downgrading libnvinfer7 from 7.0.0-1+cuda10.2 to 7.0.0-1+cuda10.0\n",
            "(Reading database ... 144824 files and directories currently installed.)\n",
            "Preparing to unpack .../libnvinfer7_7.0.0-1+cuda10.0_amd64.deb ...\n",
            "Unpacking libnvinfer7 (7.0.0-1+cuda10.0) over (7.0.0-1+cuda10.2) ...\n",
            "Setting up libnvinfer7 (7.0.0-1+cuda10.0) ...\n",
            "Processing triggers for libc-bin (2.27-3ubuntu1) ...\n",
            "/sbin/ldconfig.real: /usr/local/lib/python3.6/dist-packages/ideep4py/lib/libmkldnn.so.0 is not a symbolic link\n",
            "\n",
            "Reading package lists... Done\n",
            "Building dependency tree       \n",
            "Reading state information... Done\n",
            "The following packages were automatically installed and are no longer required:\n",
            "  cuda-cudart-10-2 cuda-cudart-dev-10-2 cuda-driver-dev-10-2 cuda-license-10-2\n",
            "Use 'apt autoremove' to remove them.\n",
            "The following NEW packages will be installed:\n",
            "  libnvinfer-plugin7\n",
            "0 upgraded, 1 newly installed, 0 to remove and 33 not upgraded.\n",
            "Need to get 0 B/2,109 kB of archives.\n",
            "After this operation, 5,634 kB of additional disk space will be used.\n",
            "Get:1 file:/var/nv-tensorrt-repo-cuda10.0-trt7.0.0.11-ga-20191216  libnvinfer-plugin7 7.0.0-1+cuda10.0 [2,109 kB]\n",
            "Selecting previously unselected package libnvinfer-plugin7.\n",
            "(Reading database ... 144824 files and directories currently installed.)\n",
            "Preparing to unpack .../libnvinfer-plugin7_7.0.0-1+cuda10.0_amd64.deb ...\n",
            "Unpacking libnvinfer-plugin7 (7.0.0-1+cuda10.0) ...\n",
            "Setting up libnvinfer-plugin7 (7.0.0-1+cuda10.0) ...\n",
            "Processing triggers for libc-bin (2.27-3ubuntu1) ...\n",
            "/sbin/ldconfig.real: /usr/local/lib/python3.6/dist-packages/ideep4py/lib/libmkldnn.so.0 is not a symbolic link\n",
            "\n",
            "Reading package lists... Done\n",
            "Building dependency tree       \n",
            "Reading state information... Done\n",
            "The following packages were automatically installed and are no longer required:\n",
            "  cuda-cudart-10-2 cuda-cudart-dev-10-2 cuda-driver-dev-10-2 cuda-license-10-2\n",
            "Use 'apt autoremove' to remove them.\n",
            "The following NEW packages will be installed:\n",
            "  libnvparsers7\n",
            "0 upgraded, 1 newly installed, 0 to remove and 34 not upgraded.\n",
            "Need to get 0 B/791 kB of archives.\n",
            "After this operation, 3,365 kB of additional disk space will be used.\n",
            "Get:1 file:/var/nv-tensorrt-repo-cuda10.0-trt7.0.0.11-ga-20191216  libnvparsers7 7.0.0-1+cuda10.0 [791 kB]\n",
            "Selecting previously unselected package libnvparsers7.\n",
            "(Reading database ... 144829 files and directories currently installed.)\n",
            "Preparing to unpack .../libnvparsers7_7.0.0-1+cuda10.0_amd64.deb ...\n",
            "Unpacking libnvparsers7 (7.0.0-1+cuda10.0) ...\n",
            "Setting up libnvparsers7 (7.0.0-1+cuda10.0) ...\n",
            "Processing triggers for libc-bin (2.27-3ubuntu1) ...\n",
            "/sbin/ldconfig.real: /usr/local/lib/python3.6/dist-packages/ideep4py/lib/libmkldnn.so.0 is not a symbolic link\n",
            "\n",
            "Reading package lists... Done\n",
            "Building dependency tree       \n",
            "Reading state information... Done\n",
            "The following packages were automatically installed and are no longer required:\n",
            "  cuda-cudart-10-2 cuda-cudart-dev-10-2 cuda-driver-dev-10-2 cuda-license-10-2\n",
            "Use 'apt autoremove' to remove them.\n",
            "The following NEW packages will be installed:\n",
            "  libnvonnxparsers7\n",
            "0 upgraded, 1 newly installed, 0 to remove and 35 not upgraded.\n",
            "Need to get 0 B/593 kB of archives.\n",
            "After this operation, 2,478 kB of additional disk space will be used.\n",
            "Get:1 file:/var/nv-tensorrt-repo-cuda10.0-trt7.0.0.11-ga-20191216  libnvonnxparsers7 7.0.0-1+cuda10.0 [593 kB]\n",
            "Selecting previously unselected package libnvonnxparsers7.\n",
            "(Reading database ... 144836 files and directories currently installed.)\n",
            "Preparing to unpack .../libnvonnxparsers7_7.0.0-1+cuda10.0_amd64.deb ...\n",
            "Unpacking libnvonnxparsers7 (7.0.0-1+cuda10.0) ...\n",
            "Setting up libnvonnxparsers7 (7.0.0-1+cuda10.0) ...\n",
            "Processing triggers for libc-bin (2.27-3ubuntu1) ...\n",
            "/sbin/ldconfig.real: /usr/local/lib/python3.6/dist-packages/ideep4py/lib/libmkldnn.so.0 is not a symbolic link\n",
            "\n",
            "Reading package lists... Done\n",
            "Building dependency tree       \n",
            "Reading state information... Done\n",
            "The following packages were automatically installed and are no longer required:\n",
            "  cuda-cudart-10-2 cuda-cudart-dev-10-2 cuda-driver-dev-10-2 cuda-license-10-2\n",
            "Use 'apt autoremove' to remove them.\n",
            "The following NEW packages will be installed:\n",
            "  libnvinfer-bin\n",
            "0 upgraded, 1 newly installed, 0 to remove and 36 not upgraded.\n",
            "Need to get 0 B/94.7 kB of archives.\n",
            "After this operation, 302 kB of additional disk space will be used.\n",
            "Get:1 file:/var/nv-tensorrt-repo-cuda10.0-trt7.0.0.11-ga-20191216  libnvinfer-bin 7.0.0-1+cuda10.0 [94.7 kB]\n",
            "Selecting previously unselected package libnvinfer-bin.\n",
            "(Reading database ... 144841 files and directories currently installed.)\n",
            "Preparing to unpack .../libnvinfer-bin_7.0.0-1+cuda10.0_amd64.deb ...\n",
            "Unpacking libnvinfer-bin (7.0.0-1+cuda10.0) ...\n",
            "Setting up libnvinfer-bin (7.0.0-1+cuda10.0) ...\n",
            "Reading package lists... Done\n",
            "Building dependency tree       \n",
            "Reading state information... Done\n",
            "The following packages were automatically installed and are no longer required:\n",
            "  cuda-cudart-10-2 cuda-cudart-dev-10-2 cuda-driver-dev-10-2 cuda-license-10-2\n",
            "Use 'apt autoremove' to remove them.\n",
            "The following NEW packages will be installed:\n",
            "  libnvinfer-dev\n",
            "0 upgraded, 1 newly installed, 0 to remove and 36 not upgraded.\n",
            "Need to get 0 B/71.6 MB of archives.\n",
            "After this operation, 280 MB of additional disk space will be used.\n",
            "Get:1 file:/var/nv-tensorrt-repo-cuda10.0-trt7.0.0.11-ga-20191216  libnvinfer-dev 7.0.0-1+cuda10.0 [71.6 MB]\n",
            "Selecting previously unselected package libnvinfer-dev.\n",
            "(Reading database ... 144848 files and directories currently installed.)\n",
            "Preparing to unpack .../libnvinfer-dev_7.0.0-1+cuda10.0_amd64.deb ...\n",
            "Unpacking libnvinfer-dev (7.0.0-1+cuda10.0) ...\n",
            "Setting up libnvinfer-dev (7.0.0-1+cuda10.0) ...\n",
            "Reading package lists... Done\n",
            "Building dependency tree       \n",
            "Reading state information... Done\n",
            "The following packages were automatically installed and are no longer required:\n",
            "  cuda-cudart-10-2 cuda-cudart-dev-10-2 cuda-driver-dev-10-2 cuda-license-10-2\n",
            "Use 'apt autoremove' to remove them.\n",
            "The following NEW packages will be installed:\n",
            "  libnvinfer-plugin-dev\n",
            "0 upgraded, 1 newly installed, 0 to remove and 37 not upgraded.\n",
            "Need to get 0 B/2,177 kB of archives.\n",
            "After this operation, 7,063 kB of additional disk space will be used.\n",
            "Get:1 file:/var/nv-tensorrt-repo-cuda10.0-trt7.0.0.11-ga-20191216  libnvinfer-plugin-dev 7.0.0-1+cuda10.0 [2,177 kB]\n",
            "Selecting previously unselected package libnvinfer-plugin-dev.\n",
            "(Reading database ... 144863 files and directories currently installed.)\n",
            "Preparing to unpack .../libnvinfer-plugin-dev_7.0.0-1+cuda10.0_amd64.deb ...\n",
            "Unpacking libnvinfer-plugin-dev (7.0.0-1+cuda10.0) ...\n",
            "Setting up libnvinfer-plugin-dev (7.0.0-1+cuda10.0) ...\n",
            "Reading package lists... Done\n",
            "Building dependency tree       \n",
            "Reading state information... Done\n",
            "The following packages were automatically installed and are no longer required:\n",
            "  cuda-cudart-10-2 cuda-cudart-dev-10-2 cuda-driver-dev-10-2 cuda-license-10-2\n",
            "Use 'apt autoremove' to remove them.\n",
            "The following NEW packages will be installed:\n",
            "  libnvparsers-dev\n",
            "0 upgraded, 1 newly installed, 0 to remove and 38 not upgraded.\n",
            "Need to get 0 B/540 kB of archives.\n",
            "After this operation, 4,424 kB of additional disk space will be used.\n",
            "Get:1 file:/var/nv-tensorrt-repo-cuda10.0-trt7.0.0.11-ga-20191216  libnvparsers-dev 7.0.0-1+cuda10.0 [540 kB]\n",
            "Selecting previously unselected package libnvparsers-dev.\n",
            "(Reading database ... 144870 files and directories currently installed.)\n",
            "Preparing to unpack .../libnvparsers-dev_7.0.0-1+cuda10.0_amd64.deb ...\n",
            "Unpacking libnvparsers-dev (7.0.0-1+cuda10.0) ...\n",
            "Setting up libnvparsers-dev (7.0.0-1+cuda10.0) ...\n",
            "Reading package lists... Done\n",
            "Building dependency tree       \n",
            "Reading state information... Done\n",
            "The following packages were automatically installed and are no longer required:\n",
            "  cuda-cudart-10-2 cuda-cudart-dev-10-2 cuda-driver-dev-10-2 cuda-license-10-2\n",
            "Use 'apt autoremove' to remove them.\n",
            "The following NEW packages will be installed:\n",
            "  libnvonnxparsers-dev\n",
            "0 upgraded, 1 newly installed, 0 to remove and 39 not upgraded.\n",
            "Need to get 0 B/295 kB of archives.\n",
            "After this operation, 1,804 kB of additional disk space will be used.\n",
            "Get:1 file:/var/nv-tensorrt-repo-cuda10.0-trt7.0.0.11-ga-20191216  libnvonnxparsers-dev 7.0.0-1+cuda10.0 [295 kB]\n",
            "Selecting previously unselected package libnvonnxparsers-dev.\n",
            "(Reading database ... 144879 files and directories currently installed.)\n",
            "Preparing to unpack .../libnvonnxparsers-dev_7.0.0-1+cuda10.0_amd64.deb ...\n",
            "Unpacking libnvonnxparsers-dev (7.0.0-1+cuda10.0) ...\n",
            "Setting up libnvonnxparsers-dev (7.0.0-1+cuda10.0) ...\n",
            "Reading package lists... Done\n",
            "Building dependency tree       \n",
            "Reading state information... Done\n",
            "The following packages were automatically installed and are no longer required:\n",
            "  cuda-cudart-10-2 cuda-cudart-dev-10-2 cuda-driver-dev-10-2 cuda-license-10-2\n",
            "Use 'apt autoremove' to remove them.\n",
            "The following NEW packages will be installed:\n",
            "  libnvinfer-samples\n",
            "0 upgraded, 1 newly installed, 0 to remove and 40 not upgraded.\n",
            "Need to get 0 B/452 MB of archives.\n",
            "After this operation, 558 MB of additional disk space will be used.\n",
            "Get:1 file:/var/nv-tensorrt-repo-cuda10.0-trt7.0.0.11-ga-20191216  libnvinfer-samples 7.0.0-1+cuda10.0 [452 MB]\n",
            "Selecting previously unselected package libnvinfer-samples.\n",
            "(Reading database ... 144887 files and directories currently installed.)\n",
            "Preparing to unpack .../libnvinfer-samples_7.0.0-1+cuda10.0_all.deb ...\n",
            "Unpacking libnvinfer-samples (7.0.0-1+cuda10.0) ...\n",
            "Setting up libnvinfer-samples (7.0.0-1+cuda10.0) ...\n",
            "Reading package lists... Done\n",
            "Building dependency tree       \n",
            "Reading state information... Done\n",
            "The following packages were automatically installed and are no longer required:\n",
            "  cuda-cudart-10-2 cuda-cudart-dev-10-2 cuda-driver-dev-10-2 cuda-license-10-2\n",
            "Use 'apt autoremove' to remove them.\n",
            "The following NEW packages will be installed:\n",
            "  libnvinfer-doc\n",
            "0 upgraded, 1 newly installed, 0 to remove and 40 not upgraded.\n",
            "Need to get 0 B/9,717 kB of archives.\n",
            "After this operation, 31.3 MB of additional disk space will be used.\n",
            "Get:1 file:/var/nv-tensorrt-repo-cuda10.0-trt7.0.0.11-ga-20191216  libnvinfer-doc 7.0.0-1+cuda10.0 [9,717 kB]\n",
            "Selecting previously unselected package libnvinfer-doc.\n",
            "(Reading database ... 145327 files and directories currently installed.)\n",
            "Preparing to unpack .../libnvinfer-doc_7.0.0-1+cuda10.0_all.deb ...\n",
            "Unpacking libnvinfer-doc (7.0.0-1+cuda10.0) ...\n",
            "Setting up libnvinfer-doc (7.0.0-1+cuda10.0) ...\n",
            "Reading package lists... Done\n",
            "Building dependency tree       \n",
            "Reading state information... Done\n",
            "The following packages were automatically installed and are no longer required:\n",
            "  cuda-cudart-10-2 cuda-cudart-dev-10-2 cuda-driver-dev-10-2 cuda-license-10-2\n",
            "Use 'apt autoremove' to remove them.\n",
            "The following NEW packages will be installed:\n",
            "  tensorrt\n",
            "0 upgraded, 1 newly installed, 0 to remove and 40 not upgraded.\n",
            "Need to get 0 B/3,652 B of archives.\n",
            "After this operation, 11.3 kB of additional disk space will be used.\n",
            "Get:1 file:/var/nv-tensorrt-repo-cuda10.0-trt7.0.0.11-ga-20191216  tensorrt 7.0.0.11-1+cuda10.0 [3,652 B]\n",
            "Selecting previously unselected package tensorrt.\n",
            "(Reading database ... 146239 files and directories currently installed.)\n",
            "Preparing to unpack .../tensorrt_7.0.0.11-1+cuda10.0_amd64.deb ...\n",
            "Unpacking tensorrt (7.0.0.11-1+cuda10.0) ...\n",
            "Setting up tensorrt (7.0.0.11-1+cuda10.0) ...\n",
            "Reading package lists... Done\n",
            "Building dependency tree       \n",
            "Reading state information... Done\n",
            "uff-converter-tf is already the newest version (7.0.0-1+cuda10.0).\n",
            "The following packages were automatically installed and are no longer required:\n",
            "  cuda-cudart-10-2 cuda-cudart-dev-10-2 cuda-driver-dev-10-2 cuda-license-10-2\n",
            "Use 'apt autoremove' to remove them.\n",
            "0 upgraded, 0 newly installed, 0 to remove and 40 not upgraded.\n"
          ],
          "name": "stdout"
        }
      ]
    },
    {
      "cell_type": "markdown",
      "metadata": {
        "id": "5XdmLAgfFOIL",
        "colab_type": "text"
      },
      "source": [
        "# Check the TensorRT installation"
      ]
    },
    {
      "cell_type": "code",
      "metadata": {
        "id": "t-m_I5O2eXx7",
        "colab_type": "code",
        "outputId": "aab70f4a-c9c9-4b12-9a39-9c193fcabb3c",
        "colab": {
          "base_uri": "https://localhost:8080/",
          "height": 289
        }
      },
      "source": [
        "!dpkg -l | grep TensorRT"
      ],
      "execution_count": 0,
      "outputs": [
        {
          "output_type": "stream",
          "text": [
            "ii  graphsurgeon-tf                                              7.0.0-1+cuda10.0                                  amd64        GraphSurgeon for TensorRT package\n",
            "ii  libnvinfer-bin                                               7.0.0-1+cuda10.0                                  amd64        TensorRT binaries\n",
            "ii  libnvinfer-dev                                               7.0.0-1+cuda10.0                                  amd64        TensorRT development libraries and headers\n",
            "ii  libnvinfer-doc                                               7.0.0-1+cuda10.0                                  all          TensorRT documentation\n",
            "ii  libnvinfer-plugin-dev                                        7.0.0-1+cuda10.0                                  amd64        TensorRT plugin libraries\n",
            "ii  libnvinfer-plugin7                                           7.0.0-1+cuda10.0                                  amd64        TensorRT plugin libraries\n",
            "ii  libnvinfer-samples                                           7.0.0-1+cuda10.0                                  all          TensorRT samples\n",
            "ii  libnvinfer5                                                  5.1.2-1+cuda10.0                                  amd64        TensorRT runtime libraries\n",
            "ii  libnvinfer7                                                  7.0.0-1+cuda10.0                                  amd64        TensorRT runtime libraries\n",
            "ii  libnvonnxparsers-dev                                         7.0.0-1+cuda10.0                                  amd64        TensorRT ONNX libraries\n",
            "ii  libnvonnxparsers7                                            7.0.0-1+cuda10.0                                  amd64        TensorRT ONNX libraries\n",
            "ii  libnvparsers-dev                                             7.0.0-1+cuda10.0                                  amd64        TensorRT parsers libraries\n",
            "ii  libnvparsers7                                                7.0.0-1+cuda10.0                                  amd64        TensorRT parsers libraries\n",
            "ii  tensorrt                                                     7.0.0.11-1+cuda10.0                               amd64        Meta package of TensorRT\n",
            "ii  uff-converter-tf                                             7.0.0-1+cuda10.0                                  amd64        UFF converter for TensorRT package\n"
          ],
          "name": "stdout"
        }
      ]
    },
    {
      "cell_type": "markdown",
      "metadata": {
        "id": "4T7h9KhcSyzH",
        "colab_type": "text"
      },
      "source": [
        "# Importing the Required Libraries and Packages"
      ]
    },
    {
      "cell_type": "code",
      "metadata": {
        "id": "1WkYWnYaP3cv",
        "colab_type": "code",
        "colab": {}
      },
      "source": [
        "# Import the needed libraries\n",
        "import tensorflow.contrib.tensorrt as trt\n",
        "from tensorflow.python.platform import gfile"
      ],
      "execution_count": 0,
      "outputs": []
    },
    {
      "cell_type": "markdown",
      "metadata": {
        "id": "8E-tYH4OP3cv",
        "colab_type": "text"
      },
      "source": [
        "# Convert Tensorflow Model to Frozen Model"
      ]
    },
    {
      "cell_type": "code",
      "metadata": {
        "id": "78Ca_q0nRgTL",
        "colab_type": "code",
        "outputId": "dab79961-6b45-416e-e59f-6d5e83438d38",
        "colab": {
          "base_uri": "https://localhost:8080/",
          "height": 84
        }
      },
      "source": [
        "# has to be use this setting to make a session for TensorRT optimization\n",
        "with tf.Session(config=tf.ConfigProto(gpu_options=tf.GPUOptions(per_process_gpu_memory_fraction=0.50))) as sess:\n",
        "    # Import the meta graph of the tensorflow model\n",
        "    saver = tf.train.import_meta_graph(\"/content/drive/My Drive/ML_Datasets/nvidia/model/tensorflow/small/model_small.meta\")\n",
        "    # then, restore the weights to the meta graph\n",
        "    saver.restore(sess, \"/content/drive/My Drive/ML_Datasets/nvidia/model/tensorflow/small/model_small\")\n",
        "    \n",
        "    # specify which tensor output you want to obtain \n",
        "    # (correspond to prediction result)\n",
        "    your_outputs = [\"output_tensor/Softmax\"]\n",
        "    \n",
        "    # convert to frozen model\n",
        "    frozen_graph = tf.graph_util.convert_variables_to_constants(\n",
        "        sess, # session\n",
        "        tf.get_default_graph().as_graph_def(),# graph+weight from the session\n",
        "        output_node_names=your_outputs)\n",
        "    #write the TensorRT model to be used later for inference\n",
        "    with gfile.FastGFile(\"/content/drive/My Drive/ML_Datasets/nvidia/model/frozen_model.pb\", 'wb') as f:\n",
        "        f.write(frozen_graph.SerializeToString())\n",
        "    print(\"Frozen model is successfully stored!\")"
      ],
      "execution_count": 0,
      "outputs": [
        {
          "output_type": "stream",
          "text": [
            "INFO:tensorflow:Restoring parameters from /content/drive/My Drive/ML_Datasets/nvidia/model/tensorflow/small/model_small\n",
            "INFO:tensorflow:Froze 10 variables.\n",
            "INFO:tensorflow:Converted 10 variables to const ops.\n",
            "Frozen model is successfully stored!\n"
          ],
          "name": "stdout"
        }
      ]
    },
    {
      "cell_type": "markdown",
      "metadata": {
        "id": "PnphXIxrP3cz",
        "colab_type": "text"
      },
      "source": [
        "# Optimize the frozen model to TensorRT graph"
      ]
    },
    {
      "cell_type": "code",
      "metadata": {
        "id": "cLzjZudPP3cz",
        "colab_type": "code",
        "outputId": "de4e728e-21b1-492e-93e7-42b137ee127e",
        "colab": {
          "base_uri": "https://localhost:8080/",
          "height": 84
        }
      },
      "source": [
        "# convert (optimize) frozen model to TensorRT model\n",
        "trt_graph = trt.create_inference_graph(\n",
        "    input_graph_def=frozen_graph,# frozen model\n",
        "    outputs=your_outputs,\n",
        "    max_batch_size=2,# specify your max batch size\n",
        "    max_workspace_size_bytes=2*(10**9),# specify the max workspace\n",
        "    precision_mode=\"FP32\") # precision, can be \"FP32\" (32 floating point precision) or \"FP16\"\n",
        "\n",
        "#write the TensorRT model to be used later for inference\n",
        "with gfile.FastGFile(\"/content/drive/My Drive/ML_Datasets/nvidia/model/TensorRT_model.pb\", 'wb') as f:\n",
        "    f.write(trt_graph.SerializeToString())\n",
        "print(\"TensorRT model is successfully stored!\")"
      ],
      "execution_count": 0,
      "outputs": [
        {
          "output_type": "stream",
          "text": [
            "INFO:tensorflow:Linked TensorRT version: (0, 0, 0)\n",
            "INFO:tensorflow:Loaded TensorRT version: (0, 0, 0)\n",
            "INFO:tensorflow:Running against TensorRT version 0.0.0\n",
            "TensorRT model is successfully stored!\n"
          ],
          "name": "stdout"
        }
      ]
    },
    {
      "cell_type": "markdown",
      "metadata": {
        "id": "48Bn4o_vP3c2",
        "colab_type": "text"
      },
      "source": [
        "# Count how many nodes/operations before and after optimization"
      ]
    },
    {
      "cell_type": "code",
      "metadata": {
        "id": "hJxrfSiNP3c2",
        "colab_type": "code",
        "outputId": "bc0105e1-3636-405e-b855-bc2ba150593b",
        "colab": {
          "base_uri": "https://localhost:8080/",
          "height": 67
        }
      },
      "source": [
        "# check how many ops of the original frozen model\n",
        "all_nodes = len([1 for n in frozen_graph.node])\n",
        "print(\"numb. of all_nodes in frozen graph:\", all_nodes)\n",
        "\n",
        "# check how many ops that is converted to TensorRT engine\n",
        "trt_engine_nodes = len([1 for n in trt_graph.node if str(n.op) == 'TRTEngineOp'])\n",
        "print(\"numb. of trt_engine_nodes in TensorRT graph:\", trt_engine_nodes)\n",
        "all_nodes = len([1 for n in trt_graph.node])\n",
        "print(\"numb. of all_nodes in TensorRT graph:\", all_nodes)"
      ],
      "execution_count": 0,
      "outputs": [
        {
          "output_type": "stream",
          "text": [
            "numb. of all_nodes in frozen graph: 46\n",
            "numb. of trt_engine_nodes in TensorRT graph: 0\n",
            "numb. of all_nodes in TensorRT graph: 41\n"
          ],
          "name": "stdout"
        }
      ]
    },
    {
      "cell_type": "code",
      "metadata": {
        "id": "zBwkAnZ2XqLa",
        "colab_type": "code",
        "colab": {}
      },
      "source": [
        ""
      ],
      "execution_count": 0,
      "outputs": []
    }
  ]
}