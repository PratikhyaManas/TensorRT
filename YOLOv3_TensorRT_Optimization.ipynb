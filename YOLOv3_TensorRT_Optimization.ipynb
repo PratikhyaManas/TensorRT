{
  "nbformat": 4,
  "nbformat_minor": 0,
  "metadata": {
    "colab": {
      "name": "YOLOv3_TensorRT_Optimization.ipynb",
      "provenance": [],
      "authorship_tag": "ABX9TyMZEMnQ6miQMSEtcqaH08qo",
      "include_colab_link": true
    },
    "kernelspec": {
      "name": "python3",
      "display_name": "Python 3"
    },
    "accelerator": "GPU"
  },
  "cells": [
    {
      "cell_type": "markdown",
      "metadata": {
        "id": "view-in-github",
        "colab_type": "text"
      },
      "source": [
        "<a href=\"https://colab.research.google.com/github/PratikhyaManas/TensorRT/blob/master/YOLOv3_TensorRT_Optimization.ipynb\" target=\"_parent\"><img src=\"https://colab.research.google.com/assets/colab-badge.svg\" alt=\"Open In Colab\"/></a>"
      ]
    },
    {
      "cell_type": "markdown",
      "metadata": {
        "id": "FfibRjY48k5K",
        "colab_type": "text"
      },
      "source": [
        "# **YOLOv3 Optimization using NVIDIA's TensorRT**"
      ]
    },
    {
      "cell_type": "markdown",
      "metadata": {
        "id": "woqIz-Ea80XD",
        "colab_type": "text"
      },
      "source": [
        "# Mounting of Google Drive"
      ]
    },
    {
      "cell_type": "code",
      "metadata": {
        "id": "2kEfaic30zT_",
        "colab_type": "code",
        "colab": {
          "base_uri": "https://localhost:8080/",
          "height": 121
        },
        "outputId": "6f44fcb8-1ad1-475c-e7fd-6d151af9d830"
      },
      "source": [
        "# Mounting Google Drive\n",
        "from google.colab import drive\n",
        "drive.mount('/content/drive',force_remount=True)"
      ],
      "execution_count": 1,
      "outputs": [
        {
          "output_type": "stream",
          "text": [
            "Go to this URL in a browser: https://accounts.google.com/o/oauth2/auth?client_id=947318989803-6bn6qk8qdgf4n4g3pfee6491hc0brc4i.apps.googleusercontent.com&redirect_uri=urn%3aietf%3awg%3aoauth%3a2.0%3aoob&response_type=code&scope=email%20https%3a%2f%2fwww.googleapis.com%2fauth%2fdocs.test%20https%3a%2f%2fwww.googleapis.com%2fauth%2fdrive%20https%3a%2f%2fwww.googleapis.com%2fauth%2fdrive.photos.readonly%20https%3a%2f%2fwww.googleapis.com%2fauth%2fpeopleapi.readonly\n",
            "\n",
            "Enter your authorization code:\n",
            "··········\n",
            "Mounted at /content/drive\n"
          ],
          "name": "stdout"
        }
      ]
    },
    {
      "cell_type": "markdown",
      "metadata": {
        "id": "8zPAKuy39C-S",
        "colab_type": "text"
      },
      "source": [
        "# Switch the current directory to the project folder of Drive"
      ]
    },
    {
      "cell_type": "code",
      "metadata": {
        "id": "SA3ue-KG1AUE",
        "colab_type": "code",
        "colab": {}
      },
      "source": [
        "import os\n",
        "project_path = '/content/drive/My Drive/ML_Datasets/nvidia'\n",
        "os.chdir(project_path)"
      ],
      "execution_count": 0,
      "outputs": []
    },
    {
      "cell_type": "markdown",
      "metadata": {
        "id": "SIvPETbb9VTt",
        "colab_type": "text"
      },
      "source": [
        "# Check the version of CUDA,TensorFlow"
      ]
    },
    {
      "cell_type": "code",
      "metadata": {
        "id": "r4CLLW-J1DP-",
        "colab_type": "code",
        "colab": {
          "base_uri": "https://localhost:8080/",
          "height": 118
        },
        "outputId": "623a68db-8b42-412c-f581-8b380fb63a9e"
      },
      "source": [
        "# Checking the Version of CUDA & Tensorflow\n",
        "!nvcc --version\n",
        "%tensorflow_version 1.x\n",
        "import tensorflow as tf\n",
        "print(tf.__version__)"
      ],
      "execution_count": 3,
      "outputs": [
        {
          "output_type": "stream",
          "text": [
            "nvcc: NVIDIA (R) Cuda compiler driver\n",
            "Copyright (c) 2005-2019 NVIDIA Corporation\n",
            "Built on Sun_Jul_28_19:07:16_PDT_2019\n",
            "Cuda compilation tools, release 10.1, V10.1.243\n",
            "TensorFlow 1.x selected.\n",
            "1.15.2\n"
          ],
          "name": "stdout"
        }
      ]
    },
    {
      "cell_type": "markdown",
      "metadata": {
        "id": "55RqJR7J_E7m",
        "colab_type": "text"
      },
      "source": [
        "**Download the TensorRT package. I have uploaded the package to my drive and provided the Sharable link for faster download**"
      ]
    },
    {
      "cell_type": "code",
      "metadata": {
        "id": "pGCsIaRQ-RAS",
        "colab_type": "code",
        "colab": {}
      },
      "source": [
        "!wget -O nv-tensorrt-repo-ubuntu1804-cuda10.0-trt7.0.0.11-ga-20191216_1-1_amd64.deb https://drive.google.com/open?id=1GLRcQNpdlDX0cN1LXPBB7LzifJuhj4Vf"
      ],
      "execution_count": 0,
      "outputs": []
    },
    {
      "cell_type": "markdown",
      "metadata": {
        "id": "S5H9DiZL_fnq",
        "colab_type": "text"
      },
      "source": [
        "# Install the required additional TensorRT package"
      ]
    },
    {
      "cell_type": "code",
      "metadata": {
        "id": "v1Sp4ueg1HUX",
        "colab_type": "code",
        "colab": {
          "base_uri": "https://localhost:8080/",
          "height": 1000
        },
        "outputId": "6a9eee60-edc6-4733-b207-6f5904d53b9d"
      },
      "source": [
        "!dpkg -i nv-tensorrt-repo-ubuntu1804-cuda10.0-trt7.0.0.11-ga-20191216_1-1_amd64.deb\n",
        "!apt-key add /var/nv-tensorrt-repo-cuda10.0-trt7.0.0.11-ga-20191216/7fa2af80.pub\n",
        "!apt-get update\n",
        "!apt-get install -y --no-install-recommends libnvinfer7=7.0.0-1+cuda10.0\n",
        "!apt-get install -y --no-install-recommends libnvinfer-plugin7=7.0.0-1+cuda10.0\n",
        "!apt-get install -y --no-install-recommends libnvparsers7=7.0.0-1+cuda10.0\n",
        "!apt-get install -y --no-install-recommends libnvonnxparsers7=7.0.0-1+cuda10.0\n",
        "!apt-get install -y --no-install-recommends libnvinfer-bin=7.0.0-1+cuda10.0\n",
        "!apt-get install -y --no-install-recommends libnvinfer-dev=7.0.0-1+cuda10.0\n",
        "!apt-get install -y --no-install-recommends libnvinfer-plugin-dev=7.0.0-1+cuda10.0\n",
        "!apt-get install -y --no-install-recommends libnvparsers-dev=7.0.0-1+cuda10.0\n",
        "!apt-get install -y --no-install-recommends libnvonnxparsers-dev=7.0.0-1+cuda10.0\n",
        "!apt-get install -y --no-install-recommends libnvinfer-samples=7.0.0-1+cuda10.0\n",
        "!apt-get install -y --no-install-recommends libnvinfer-doc=7.0.0-1+cuda10.0 \n",
        "!apt-get install tensorrt\n",
        "!apt-get install uff-converter-tf"
      ],
      "execution_count": 4,
      "outputs": [
        {
          "output_type": "stream",
          "text": [
            "Selecting previously unselected package nv-tensorrt-repo-ubuntu1804-cuda10.0-trt7.0.0.11-ga-20191216.\n",
            "(Reading database ... 144568 files and directories currently installed.)\n",
            "Preparing to unpack nv-tensorrt-repo-ubuntu1804-cuda10.0-trt7.0.0.11-ga-20191216_1-1_amd64.deb ...\n",
            "Unpacking nv-tensorrt-repo-ubuntu1804-cuda10.0-trt7.0.0.11-ga-20191216 (1-1) ...\n",
            "Setting up nv-tensorrt-repo-ubuntu1804-cuda10.0-trt7.0.0.11-ga-20191216 (1-1) ...\n",
            "OK\n",
            "Get:1 file:/var/nv-tensorrt-repo-cuda10.0-trt7.0.0.11-ga-20191216  InRelease\n",
            "Ign:1 file:/var/nv-tensorrt-repo-cuda10.0-trt7.0.0.11-ga-20191216  InRelease\n",
            "Get:2 file:/var/nv-tensorrt-repo-cuda10.0-trt7.0.0.11-ga-20191216  Release [574 B]\n",
            "Get:2 file:/var/nv-tensorrt-repo-cuda10.0-trt7.0.0.11-ga-20191216  Release [574 B]\n",
            "Get:3 file:/var/nv-tensorrt-repo-cuda10.0-trt7.0.0.11-ga-20191216  Release.gpg [836 B]\n",
            "Get:3 file:/var/nv-tensorrt-repo-cuda10.0-trt7.0.0.11-ga-20191216  Release.gpg [836 B]\n",
            "Hit:4 http://ppa.launchpad.net/graphics-drivers/ppa/ubuntu bionic InRelease\n",
            "Hit:5 http://archive.ubuntu.com/ubuntu bionic InRelease\n",
            "Get:6 http://archive.ubuntu.com/ubuntu bionic-updates InRelease [88.7 kB]\n",
            "Get:7 http://ppa.launchpad.net/marutter/c2d4u3.5/ubuntu bionic InRelease [15.4 kB]\n",
            "Get:8 http://archive.ubuntu.com/ubuntu bionic-backports InRelease [74.6 kB]\n",
            "Get:9 https://cloud.r-project.org/bin/linux/ubuntu bionic-cran35/ InRelease [3,626 B]\n",
            "Get:10 http://security.ubuntu.com/ubuntu bionic-security InRelease [88.7 kB]\n",
            "Get:11 file:/var/nv-tensorrt-repo-cuda10.0-trt7.0.0.11-ga-20191216  Packages [4,789 B]\n",
            "Ign:12 https://developer.download.nvidia.com/compute/cuda/repos/ubuntu1804/x86_64  InRelease\n",
            "Ign:13 https://developer.download.nvidia.com/compute/machine-learning/repos/ubuntu1804/x86_64  InRelease\n",
            "Hit:14 https://developer.download.nvidia.com/compute/cuda/repos/ubuntu1804/x86_64  Release\n",
            "Hit:15 https://developer.download.nvidia.com/compute/machine-learning/repos/ubuntu1804/x86_64  Release\n",
            "Get:16 http://ppa.launchpad.net/marutter/c2d4u3.5/ubuntu bionic/main Sources [1,810 kB]\n",
            "Get:17 http://ppa.launchpad.net/marutter/c2d4u3.5/ubuntu bionic/main amd64 Packages [873 kB]\n",
            "Get:18 http://archive.ubuntu.com/ubuntu bionic-updates/universe amd64 Packages [1,371 kB]\n",
            "Get:19 http://archive.ubuntu.com/ubuntu bionic-updates/multiverse amd64 Packages [12.6 kB]\n",
            "Get:20 http://archive.ubuntu.com/ubuntu bionic-updates/main amd64 Packages [1,181 kB]\n",
            "Get:21 http://archive.ubuntu.com/ubuntu bionic-updates/restricted amd64 Packages [58.4 kB]\n",
            "Get:24 http://security.ubuntu.com/ubuntu bionic-security/main amd64 Packages [883 kB]\n",
            "Get:25 http://security.ubuntu.com/ubuntu bionic-security/universe amd64 Packages [837 kB]\n",
            "Get:26 http://security.ubuntu.com/ubuntu bionic-security/restricted amd64 Packages [43.1 kB]\n",
            "Fetched 7,341 kB in 2s (3,036 kB/s)\n",
            "Reading package lists... Done\n",
            "Reading package lists... Done\n",
            "Building dependency tree       \n",
            "Reading state information... Done\n",
            "The following NEW packages will be installed:\n",
            "  libnvinfer7\n",
            "0 upgraded, 1 newly installed, 0 to remove and 31 not upgraded.\n",
            "Need to get 0 B/69.6 MB of archives.\n",
            "After this operation, 235 MB of additional disk space will be used.\n",
            "Get:1 file:/var/nv-tensorrt-repo-cuda10.0-trt7.0.0.11-ga-20191216  libnvinfer7 7.0.0-1+cuda10.0 [69.6 MB]\n",
            "Selecting previously unselected package libnvinfer7.\n",
            "(Reading database ... 144596 files and directories currently installed.)\n",
            "Preparing to unpack .../libnvinfer7_7.0.0-1+cuda10.0_amd64.deb ...\n",
            "Unpacking libnvinfer7 (7.0.0-1+cuda10.0) ...\n",
            "Setting up libnvinfer7 (7.0.0-1+cuda10.0) ...\n",
            "Processing triggers for libc-bin (2.27-3ubuntu1) ...\n",
            "/sbin/ldconfig.real: /usr/local/lib/python3.6/dist-packages/ideep4py/lib/libmkldnn.so.0 is not a symbolic link\n",
            "\n",
            "Reading package lists... Done\n",
            "Building dependency tree       \n",
            "Reading state information... Done\n",
            "The following NEW packages will be installed:\n",
            "  libnvinfer-plugin7\n",
            "0 upgraded, 1 newly installed, 0 to remove and 32 not upgraded.\n",
            "Need to get 0 B/2,109 kB of archives.\n",
            "After this operation, 5,634 kB of additional disk space will be used.\n",
            "Get:1 file:/var/nv-tensorrt-repo-cuda10.0-trt7.0.0.11-ga-20191216  libnvinfer-plugin7 7.0.0-1+cuda10.0 [2,109 kB]\n",
            "Selecting previously unselected package libnvinfer-plugin7.\n",
            "(Reading database ... 144603 files and directories currently installed.)\n",
            "Preparing to unpack .../libnvinfer-plugin7_7.0.0-1+cuda10.0_amd64.deb ...\n",
            "Unpacking libnvinfer-plugin7 (7.0.0-1+cuda10.0) ...\n",
            "Setting up libnvinfer-plugin7 (7.0.0-1+cuda10.0) ...\n",
            "Processing triggers for libc-bin (2.27-3ubuntu1) ...\n",
            "/sbin/ldconfig.real: /usr/local/lib/python3.6/dist-packages/ideep4py/lib/libmkldnn.so.0 is not a symbolic link\n",
            "\n",
            "Reading package lists... Done\n",
            "Building dependency tree       \n",
            "Reading state information... Done\n",
            "The following NEW packages will be installed:\n",
            "  libnvparsers7\n",
            "0 upgraded, 1 newly installed, 0 to remove and 33 not upgraded.\n",
            "Need to get 0 B/791 kB of archives.\n",
            "After this operation, 3,365 kB of additional disk space will be used.\n",
            "Get:1 file:/var/nv-tensorrt-repo-cuda10.0-trt7.0.0.11-ga-20191216  libnvparsers7 7.0.0-1+cuda10.0 [791 kB]\n",
            "Selecting previously unselected package libnvparsers7.\n",
            "(Reading database ... 144608 files and directories currently installed.)\n",
            "Preparing to unpack .../libnvparsers7_7.0.0-1+cuda10.0_amd64.deb ...\n",
            "Unpacking libnvparsers7 (7.0.0-1+cuda10.0) ...\n",
            "Setting up libnvparsers7 (7.0.0-1+cuda10.0) ...\n",
            "Processing triggers for libc-bin (2.27-3ubuntu1) ...\n",
            "/sbin/ldconfig.real: /usr/local/lib/python3.6/dist-packages/ideep4py/lib/libmkldnn.so.0 is not a symbolic link\n",
            "\n",
            "Reading package lists... Done\n",
            "Building dependency tree       \n",
            "Reading state information... Done\n",
            "The following NEW packages will be installed:\n",
            "  libnvonnxparsers7\n",
            "0 upgraded, 1 newly installed, 0 to remove and 34 not upgraded.\n",
            "Need to get 0 B/593 kB of archives.\n",
            "After this operation, 2,478 kB of additional disk space will be used.\n",
            "Get:1 file:/var/nv-tensorrt-repo-cuda10.0-trt7.0.0.11-ga-20191216  libnvonnxparsers7 7.0.0-1+cuda10.0 [593 kB]\n",
            "Selecting previously unselected package libnvonnxparsers7.\n",
            "(Reading database ... 144615 files and directories currently installed.)\n",
            "Preparing to unpack .../libnvonnxparsers7_7.0.0-1+cuda10.0_amd64.deb ...\n",
            "Unpacking libnvonnxparsers7 (7.0.0-1+cuda10.0) ...\n",
            "Setting up libnvonnxparsers7 (7.0.0-1+cuda10.0) ...\n",
            "Processing triggers for libc-bin (2.27-3ubuntu1) ...\n",
            "/sbin/ldconfig.real: /usr/local/lib/python3.6/dist-packages/ideep4py/lib/libmkldnn.so.0 is not a symbolic link\n",
            "\n",
            "Reading package lists... Done\n",
            "Building dependency tree       \n",
            "Reading state information... Done\n",
            "The following NEW packages will be installed:\n",
            "  libnvinfer-bin\n",
            "0 upgraded, 1 newly installed, 0 to remove and 35 not upgraded.\n",
            "Need to get 0 B/94.7 kB of archives.\n",
            "After this operation, 302 kB of additional disk space will be used.\n",
            "Get:1 file:/var/nv-tensorrt-repo-cuda10.0-trt7.0.0.11-ga-20191216  libnvinfer-bin 7.0.0-1+cuda10.0 [94.7 kB]\n",
            "Selecting previously unselected package libnvinfer-bin.\n",
            "(Reading database ... 144620 files and directories currently installed.)\n",
            "Preparing to unpack .../libnvinfer-bin_7.0.0-1+cuda10.0_amd64.deb ...\n",
            "Unpacking libnvinfer-bin (7.0.0-1+cuda10.0) ...\n",
            "Setting up libnvinfer-bin (7.0.0-1+cuda10.0) ...\n",
            "Reading package lists... Done\n",
            "Building dependency tree       \n",
            "Reading state information... Done\n",
            "The following NEW packages will be installed:\n",
            "  libnvinfer-dev\n",
            "0 upgraded, 1 newly installed, 0 to remove and 35 not upgraded.\n",
            "Need to get 0 B/71.6 MB of archives.\n",
            "After this operation, 280 MB of additional disk space will be used.\n",
            "Get:1 file:/var/nv-tensorrt-repo-cuda10.0-trt7.0.0.11-ga-20191216  libnvinfer-dev 7.0.0-1+cuda10.0 [71.6 MB]\n",
            "Selecting previously unselected package libnvinfer-dev.\n",
            "(Reading database ... 144627 files and directories currently installed.)\n",
            "Preparing to unpack .../libnvinfer-dev_7.0.0-1+cuda10.0_amd64.deb ...\n",
            "Unpacking libnvinfer-dev (7.0.0-1+cuda10.0) ...\n",
            "Setting up libnvinfer-dev (7.0.0-1+cuda10.0) ...\n",
            "Reading package lists... Done\n",
            "Building dependency tree       \n",
            "Reading state information... Done\n",
            "The following NEW packages will be installed:\n",
            "  libnvinfer-plugin-dev\n",
            "0 upgraded, 1 newly installed, 0 to remove and 36 not upgraded.\n",
            "Need to get 0 B/2,177 kB of archives.\n",
            "After this operation, 7,063 kB of additional disk space will be used.\n",
            "Get:1 file:/var/nv-tensorrt-repo-cuda10.0-trt7.0.0.11-ga-20191216  libnvinfer-plugin-dev 7.0.0-1+cuda10.0 [2,177 kB]\n",
            "Selecting previously unselected package libnvinfer-plugin-dev.\n",
            "(Reading database ... 144642 files and directories currently installed.)\n",
            "Preparing to unpack .../libnvinfer-plugin-dev_7.0.0-1+cuda10.0_amd64.deb ...\n",
            "Unpacking libnvinfer-plugin-dev (7.0.0-1+cuda10.0) ...\n",
            "Setting up libnvinfer-plugin-dev (7.0.0-1+cuda10.0) ...\n",
            "Reading package lists... Done\n",
            "Building dependency tree       \n",
            "Reading state information... Done\n",
            "The following NEW packages will be installed:\n",
            "  libnvparsers-dev\n",
            "0 upgraded, 1 newly installed, 0 to remove and 37 not upgraded.\n",
            "Need to get 0 B/540 kB of archives.\n",
            "After this operation, 4,424 kB of additional disk space will be used.\n",
            "Get:1 file:/var/nv-tensorrt-repo-cuda10.0-trt7.0.0.11-ga-20191216  libnvparsers-dev 7.0.0-1+cuda10.0 [540 kB]\n",
            "Selecting previously unselected package libnvparsers-dev.\n",
            "(Reading database ... 144649 files and directories currently installed.)\n",
            "Preparing to unpack .../libnvparsers-dev_7.0.0-1+cuda10.0_amd64.deb ...\n",
            "Unpacking libnvparsers-dev (7.0.0-1+cuda10.0) ...\n",
            "Setting up libnvparsers-dev (7.0.0-1+cuda10.0) ...\n",
            "Reading package lists... Done\n",
            "Building dependency tree       \n",
            "Reading state information... Done\n",
            "The following NEW packages will be installed:\n",
            "  libnvonnxparsers-dev\n",
            "0 upgraded, 1 newly installed, 0 to remove and 38 not upgraded.\n",
            "Need to get 0 B/295 kB of archives.\n",
            "After this operation, 1,804 kB of additional disk space will be used.\n",
            "Get:1 file:/var/nv-tensorrt-repo-cuda10.0-trt7.0.0.11-ga-20191216  libnvonnxparsers-dev 7.0.0-1+cuda10.0 [295 kB]\n",
            "Selecting previously unselected package libnvonnxparsers-dev.\n",
            "(Reading database ... 144658 files and directories currently installed.)\n",
            "Preparing to unpack .../libnvonnxparsers-dev_7.0.0-1+cuda10.0_amd64.deb ...\n",
            "Unpacking libnvonnxparsers-dev (7.0.0-1+cuda10.0) ...\n",
            "Setting up libnvonnxparsers-dev (7.0.0-1+cuda10.0) ...\n",
            "Reading package lists... Done\n",
            "Building dependency tree       \n",
            "Reading state information... Done\n",
            "The following NEW packages will be installed:\n",
            "  libnvinfer-samples\n",
            "0 upgraded, 1 newly installed, 0 to remove and 39 not upgraded.\n",
            "Need to get 0 B/452 MB of archives.\n",
            "After this operation, 558 MB of additional disk space will be used.\n",
            "Get:1 file:/var/nv-tensorrt-repo-cuda10.0-trt7.0.0.11-ga-20191216  libnvinfer-samples 7.0.0-1+cuda10.0 [452 MB]\n",
            "Selecting previously unselected package libnvinfer-samples.\n",
            "(Reading database ... 144666 files and directories currently installed.)\n",
            "Preparing to unpack .../libnvinfer-samples_7.0.0-1+cuda10.0_all.deb ...\n",
            "Unpacking libnvinfer-samples (7.0.0-1+cuda10.0) ...\n",
            "Setting up libnvinfer-samples (7.0.0-1+cuda10.0) ...\n",
            "Reading package lists... Done\n",
            "Building dependency tree       \n",
            "Reading state information... Done\n",
            "The following NEW packages will be installed:\n",
            "  libnvinfer-doc\n",
            "0 upgraded, 1 newly installed, 0 to remove and 39 not upgraded.\n",
            "Need to get 0 B/9,717 kB of archives.\n",
            "After this operation, 31.3 MB of additional disk space will be used.\n",
            "Get:1 file:/var/nv-tensorrt-repo-cuda10.0-trt7.0.0.11-ga-20191216  libnvinfer-doc 7.0.0-1+cuda10.0 [9,717 kB]\n",
            "Selecting previously unselected package libnvinfer-doc.\n",
            "(Reading database ... 145106 files and directories currently installed.)\n",
            "Preparing to unpack .../libnvinfer-doc_7.0.0-1+cuda10.0_all.deb ...\n",
            "Unpacking libnvinfer-doc (7.0.0-1+cuda10.0) ...\n",
            "Setting up libnvinfer-doc (7.0.0-1+cuda10.0) ...\n",
            "Reading package lists... Done\n",
            "Building dependency tree       \n",
            "Reading state information... Done\n",
            "The following NEW packages will be installed:\n",
            "  tensorrt\n",
            "0 upgraded, 1 newly installed, 0 to remove and 39 not upgraded.\n",
            "Need to get 0 B/3,652 B of archives.\n",
            "After this operation, 11.3 kB of additional disk space will be used.\n",
            "Get:1 file:/var/nv-tensorrt-repo-cuda10.0-trt7.0.0.11-ga-20191216  tensorrt 7.0.0.11-1+cuda10.0 [3,652 B]\n",
            "Selecting previously unselected package tensorrt.\n",
            "(Reading database ... 146018 files and directories currently installed.)\n",
            "Preparing to unpack .../tensorrt_7.0.0.11-1+cuda10.0_amd64.deb ...\n",
            "Unpacking tensorrt (7.0.0.11-1+cuda10.0) ...\n",
            "Setting up tensorrt (7.0.0.11-1+cuda10.0) ...\n",
            "Reading package lists... Done\n",
            "Building dependency tree       \n",
            "Reading state information... Done\n",
            "The following additional packages will be installed:\n",
            "  graphsurgeon-tf\n",
            "The following NEW packages will be installed:\n",
            "  graphsurgeon-tf uff-converter-tf\n",
            "0 upgraded, 2 newly installed, 0 to remove and 39 not upgraded.\n",
            "Need to get 0 B/53.9 kB of archives.\n",
            "After this operation, 778 kB of additional disk space will be used.\n",
            "Get:1 file:/var/nv-tensorrt-repo-cuda10.0-trt7.0.0.11-ga-20191216  graphsurgeon-tf 7.0.0-1+cuda10.0 [16.1 kB]\n",
            "Get:2 file:/var/nv-tensorrt-repo-cuda10.0-trt7.0.0.11-ga-20191216  uff-converter-tf 7.0.0-1+cuda10.0 [37.8 kB]\n",
            "Selecting previously unselected package graphsurgeon-tf.\n",
            "(Reading database ... 146021 files and directories currently installed.)\n",
            "Preparing to unpack .../graphsurgeon-tf_7.0.0-1+cuda10.0_amd64.deb ...\n",
            "Unpacking graphsurgeon-tf (7.0.0-1+cuda10.0) ...\n",
            "Selecting previously unselected package uff-converter-tf.\n",
            "Preparing to unpack .../uff-converter-tf_7.0.0-1+cuda10.0_amd64.deb ...\n",
            "Unpacking uff-converter-tf (7.0.0-1+cuda10.0) ...\n",
            "Setting up graphsurgeon-tf (7.0.0-1+cuda10.0) ...\n",
            "Setting up uff-converter-tf (7.0.0-1+cuda10.0) ...\n"
          ],
          "name": "stdout"
        }
      ]
    },
    {
      "cell_type": "markdown",
      "metadata": {
        "id": "xyA_b8Sz_5uR",
        "colab_type": "text"
      },
      "source": [
        "# Check the TensorRT package installation"
      ]
    },
    {
      "cell_type": "code",
      "metadata": {
        "id": "zUZPNDb_1LkB",
        "colab_type": "code",
        "colab": {
          "base_uri": "https://localhost:8080/",
          "height": 252
        },
        "outputId": "419d614b-9955-49b0-805a-004c2cd5cc24"
      },
      "source": [
        "!dpkg -l | grep TensorRT"
      ],
      "execution_count": 5,
      "outputs": [
        {
          "output_type": "stream",
          "text": [
            "ii  graphsurgeon-tf                                              7.0.0-1+cuda10.0                                  amd64        GraphSurgeon for TensorRT package\n",
            "ii  libnvinfer-bin                                               7.0.0-1+cuda10.0                                  amd64        TensorRT binaries\n",
            "ii  libnvinfer-dev                                               7.0.0-1+cuda10.0                                  amd64        TensorRT development libraries and headers\n",
            "ii  libnvinfer-doc                                               7.0.0-1+cuda10.0                                  all          TensorRT documentation\n",
            "ii  libnvinfer-plugin-dev                                        7.0.0-1+cuda10.0                                  amd64        TensorRT plugin libraries\n",
            "ii  libnvinfer-plugin7                                           7.0.0-1+cuda10.0                                  amd64        TensorRT plugin libraries\n",
            "ii  libnvinfer-samples                                           7.0.0-1+cuda10.0                                  all          TensorRT samples\n",
            "ii  libnvinfer7                                                  7.0.0-1+cuda10.0                                  amd64        TensorRT runtime libraries\n",
            "ii  libnvonnxparsers-dev                                         7.0.0-1+cuda10.0                                  amd64        TensorRT ONNX libraries\n",
            "ii  libnvonnxparsers7                                            7.0.0-1+cuda10.0                                  amd64        TensorRT ONNX libraries\n",
            "ii  libnvparsers-dev                                             7.0.0-1+cuda10.0                                  amd64        TensorRT parsers libraries\n",
            "ii  libnvparsers7                                                7.0.0-1+cuda10.0                                  amd64        TensorRT parsers libraries\n",
            "ii  tensorrt                                                     7.0.0.11-1+cuda10.0                               amd64        Meta package of TensorRT\n",
            "ii  uff-converter-tf                                             7.0.0-1+cuda10.0                                  amd64        UFF converter for TensorRT package\n"
          ],
          "name": "stdout"
        }
      ]
    },
    {
      "cell_type": "markdown",
      "metadata": {
        "id": "fADxZI2cACnG",
        "colab_type": "text"
      },
      "source": [
        "# Append the YOLOv3 path to the Python path for importing libraries"
      ]
    },
    {
      "cell_type": "code",
      "metadata": {
        "id": "v-t01I0_1Mym",
        "colab_type": "code",
        "colab": {}
      },
      "source": [
        "import sys\n",
        "sys.path.insert(0, '/content/drive/My Drive/ML_Datasets/nvidia/YOLOv3')"
      ],
      "execution_count": 0,
      "outputs": []
    },
    {
      "cell_type": "markdown",
      "metadata": {
        "id": "z99EEAmHASum",
        "colab_type": "text"
      },
      "source": [
        "# Import the required libraries"
      ]
    },
    {
      "cell_type": "code",
      "metadata": {
        "id": "H3yFUhJN1Roo",
        "colab_type": "code",
        "colab": {
          "base_uri": "https://localhost:8080/",
          "height": 151
        },
        "outputId": "e93ae5f8-e54a-40c9-bf62-9e82b65f1768"
      },
      "source": [
        "import cv2\n",
        "import time\n",
        "import numpy as np\n",
        "import tensorflow as tf\n",
        "import tensorflow.contrib.tensorrt as trt\n",
        "from tensorflow.python.platform import gfile\n",
        "from PIL import Image\n",
        "from YOLOv3 import utils"
      ],
      "execution_count": 7,
      "outputs": [
        {
          "output_type": "stream",
          "text": [
            "WARNING:tensorflow:\n",
            "The TensorFlow contrib module will not be included in TensorFlow 2.0.\n",
            "For more information, please see:\n",
            "  * https://github.com/tensorflow/community/blob/master/rfcs/20180907-contrib-sunset.md\n",
            "  * https://github.com/tensorflow/addons\n",
            "  * https://github.com/tensorflow/io (for I/O related ops)\n",
            "If you depend on functionality not listed there, please file an issue.\n",
            "\n"
          ],
          "name": "stdout"
        }
      ]
    },
    {
      "cell_type": "markdown",
      "metadata": {
        "id": "OE6CLt1ZAj_r",
        "colab_type": "text"
      },
      "source": [
        "# Converting the YOLOv3 model to TensorRT model"
      ]
    },
    {
      "cell_type": "code",
      "metadata": {
        "id": "WzTg1zcx1bo8",
        "colab_type": "code",
        "colab": {
          "base_uri": "https://localhost:8080/",
          "height": 185
        },
        "outputId": "40f81879-d142-4250-e403-81119efc7c7b"
      },
      "source": [
        "# (can be used to read frozen model or TensorRT model)\n",
        "def read_pb_graph(model):\n",
        "  with gfile.FastGFile(model,'rb') as f:\n",
        "    graph_def = tf.GraphDef()\n",
        "    graph_def.ParseFromString(f.read())\n",
        "  return graph_def\n",
        "frozen_graph = read_pb_graph(\"/content/drive/My Drive/ML_Datasets/nvidia/model/yolov3_gpu_nms.pb\")\n",
        "\n",
        "your_outputs = [\"Placeholder:0\", \"concat_9:0\", \"mul_9:0\"]\n",
        "# convert (optimize) frozen model to TensorRT model\n",
        "trt_graph = trt.create_inference_graph(\n",
        "    input_graph_def=frozen_graph,# frozen model\n",
        "    outputs=your_outputs,\n",
        "    max_batch_size=1,# specify your max batch size\n",
        "    max_workspace_size_bytes=2*(10**9),# specify the max workspace\n",
        "    precision_mode=\"FP16\") # precision, can be \"FP32\" (32 floating point precision) or \"FP16\"\n",
        "\n",
        "#write the TensorRT model to be used later for inference\n",
        "with gfile.FastGFile(\"/content/drive/My Drive/ML_Datasets/nvidia/model/TensorRT_YOLOv3_2.pb\", 'wb') as f:\n",
        "    f.write(trt_graph.SerializeToString())\n",
        "print(\"TensorRT model is successfully stored!\")\n",
        "\n",
        "# check how many ops of the original frozen model\n",
        "all_nodes = len([1 for n in frozen_graph.node])\n",
        "print(\"numb. of all_nodes in frozen graph:\", all_nodes)\n",
        "\n",
        "# check how many ops that is converted to TensorRT engine\n",
        "trt_engine_nodes = len([1 for n in trt_graph.node if str(n.op) == 'TRTEngineOp'])\n",
        "print(\"numb. of trt_engine_nodes in TensorRT graph:\", trt_engine_nodes)\n",
        "all_nodes = len([1 for n in trt_graph.node])\n",
        "print(\"numb. of all_nodes in TensorRT graph:\", all_nodes)"
      ],
      "execution_count": 8,
      "outputs": [
        {
          "output_type": "stream",
          "text": [
            "WARNING:tensorflow:From <ipython-input-8-d69715dace1d>:2: FastGFile.__init__ (from tensorflow.python.platform.gfile) is deprecated and will be removed in a future version.\n",
            "Instructions for updating:\n",
            "Use tf.gfile.GFile.\n",
            "INFO:tensorflow:Linked TensorRT version: (0, 0, 0)\n",
            "INFO:tensorflow:Loaded TensorRT version: (0, 0, 0)\n",
            "INFO:tensorflow:Running against TensorRT version 0.0.0\n",
            "TensorRT model is successfully stored!\n",
            "numb. of all_nodes in frozen graph: 8016\n",
            "numb. of trt_engine_nodes in TensorRT graph: 0\n",
            "numb. of all_nodes in TensorRT graph: 916\n"
          ],
          "name": "stdout"
        }
      ]
    },
    {
      "cell_type": "markdown",
      "metadata": {
        "id": "zXTDEuR9A4nj",
        "colab_type": "text"
      },
      "source": [
        "As you can see from the result that TensorRT has significantly optimised the nodes of YOLOv3 model by almost 1/9th."
      ]
    },
    {
      "cell_type": "markdown",
      "metadata": {
        "id": "YJ3O9wU8Bmvz",
        "colab_type": "text"
      },
      "source": [
        "# Setting the Configuration for the Model Inference"
      ]
    },
    {
      "cell_type": "code",
      "metadata": {
        "id": "DvKvGl-q1epU",
        "colab_type": "code",
        "colab": {}
      },
      "source": [
        "# config\n",
        "SIZE = [416, 416] #input image dimension\n",
        "# video_path = 0 # if you use camera as input\n",
        "video_path = \"/content/drive/My Drive/ML_Datasets/nvidia/road2.mp4\" # path for video input\n",
        "classes = utils.read_coco_names('/content/drive/My Drive/ML_Datasets/nvidia/YOLOv3/coco.names')\n",
        "num_classes = len(classes)\n",
        "GIVEN_ORIGINAL_YOLOv3_MODEL = \"/content/drive/My Drive/ML_Datasets/nvidia/model/yolov3_gpu_nms.pb\" # to use given original YOLOv3\n",
        "TENSORRT_YOLOv3_MODEL = \"/content/drive/My Drive/ML_Datasets/nvidia/model/TensorRT_YOLOv3_2.pb\" # to use the TensorRT optimized model"
      ],
      "execution_count": 0,
      "outputs": []
    },
    {
      "cell_type": "markdown",
      "metadata": {
        "id": "n6CLeLEOB4YI",
        "colab_type": "text"
      },
      "source": [
        "# Importing the OpenCV libraries"
      ]
    },
    {
      "cell_type": "code",
      "metadata": {
        "id": "Pge7EBoT1hXS",
        "colab_type": "code",
        "colab": {}
      },
      "source": [
        "from google.colab.patches import cv2_imshow \n",
        "import cv2"
      ],
      "execution_count": 0,
      "outputs": []
    },
    {
      "cell_type": "markdown",
      "metadata": {
        "id": "m-uKdgxHCBjv",
        "colab_type": "text"
      },
      "source": [
        "# Running the Inference and Validating"
      ]
    },
    {
      "cell_type": "code",
      "metadata": {
        "id": "wf7oQD6D1iV3",
        "colab_type": "code",
        "colab": {}
      },
      "source": [
        "# get input-output tensor\n",
        "input_tensor, output_tensors = \\\n",
        "utils.read_pb_return_tensors(tf.get_default_graph(),\n",
        "                             TENSORRT_YOLOv3_MODEL,\n",
        "                             [\"Placeholder:0\", \"concat_9:0\", \"mul_9:0\"])\n",
        "\n",
        "# perform inference\n",
        "with tf.Session(config=tf.ConfigProto(gpu_options=tf.GPUOptions(per_process_gpu_memory_fraction=0.5))) as sess:\n",
        "    vid = cv2.VideoCapture(video_path)\n",
        "    while True:\n",
        "        return_value, frame = vid.read()\n",
        "        if return_value == False:\n",
        "            print('ret:', return_value)\n",
        "            vid = cv2.VideoCapture(video_path)\n",
        "            return_value, frame = vid.read()\n",
        "        if return_value:\n",
        "            image = Image.fromarray(frame)\n",
        "        else:\n",
        "            raise ValueError(\"No image!\")\n",
        "            \n",
        "        img_resized = np.array(image.resize(size=tuple(SIZE)), \n",
        "                               dtype=np.float32)\n",
        "        img_resized = img_resized / 255.\n",
        "        prev_time = time.time()\n",
        "\n",
        "        boxes, scores = sess.run(output_tensors, \n",
        "                                 feed_dict={input_tensor: \n",
        "                                            np.expand_dims(\n",
        "                                                img_resized, axis=0)})\n",
        "        boxes, scores, labels = utils.cpu_nms(boxes, \n",
        "                                              scores, \n",
        "                                              num_classes, \n",
        "                                              score_thresh=0.4, \n",
        "                                              iou_thresh=0.5)\n",
        "        image = utils.draw_boxes(image, boxes, scores, labels, \n",
        "                                 classes, SIZE, show=False)\n",
        "\n",
        "        curr_time = time.time()\n",
        "        exec_time = curr_time - prev_timeq\n",
        "        result = np.asarray(image)\n",
        "        info = \"time:\" + str(round(1000*exec_time, 2)) + \" ms, FPS: \" + str(round((1000/(1000*exec_time)),1))\n",
        "        cv2.putText(result, text=info, org=(50, 70), \n",
        "                    fontFace=cv2.FONT_HERSHEY_SIMPLEX,\n",
        "                    fontScale=1, color=(255, 0, 0), thickness=2)\n",
        "        #cv2.namedWindow(\"result\", cv2.WINDOW_AUTOSIZE)\n",
        "        cv2_imshow(result)\n",
        "        if cv2.waitKey(10) & 0xFF == ord('q'): break\n",
        "        "
      ],
      "execution_count": 0,
      "outputs": []
    },
    {
      "cell_type": "markdown",
      "metadata": {
        "id": "i5AAP3w6CKwc",
        "colab_type": "text"
      },
      "source": [
        "As running the inference on Cloud takes more time due to the video input provided so the results were not visible here. After running on my local machine my results were as follows\n",
        "\n",
        "\n",
        "\n",
        "1.   Frames Per Second(FPS) obtained on TENSORRT_YOLOv3_MODEL was around 33 FPS.\n",
        "\n",
        "2.   Frames Per Second(FPS) obtained on GIVEN_ORIGINAL_YOLOv3_MODEL was around 20 FPS.\n",
        "\n",
        "The accuracy of TENSORRT_YOLOv3_MODEL was approximately similar to the GIVEN_ORIGINAL_YOLOv3_MODEL.\n",
        "\n",
        "We can infer that model optimization using TensorRT gives a significant amount of advantage.\n",
        "\n"
      ]
    },
    {
      "cell_type": "code",
      "metadata": {
        "id": "ayRIWHU62-zT",
        "colab_type": "code",
        "colab": {}
      },
      "source": [
        ""
      ],
      "execution_count": 0,
      "outputs": []
    }
  ]
}