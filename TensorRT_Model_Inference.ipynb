{
  "nbformat": 4,
  "nbformat_minor": 0,
  "metadata": {
    "kernelspec": {
      "display_name": "Python [conda env:TF1120_GPU]",
      "language": "python",
      "name": "conda-env-TF1120_GPU-py"
    },
    "language_info": {
      "codemirror_mode": {
        "name": "ipython",
        "version": 3
      },
      "file_extension": ".py",
      "mimetype": "text/x-python",
      "name": "python",
      "nbconvert_exporter": "python",
      "pygments_lexer": "ipython3",
      "version": "3.5.6"
    },
    "colab": {
      "name": "TensorRT_Model_Inference.ipynb",
      "provenance": [],
      "toc_visible": true,
      "include_colab_link": true
    },
    "accelerator": "GPU"
  },
  "cells": [
    {
      "cell_type": "markdown",
      "metadata": {
        "id": "view-in-github",
        "colab_type": "text"
      },
      "source": [
        "<a href=\"https://colab.research.google.com/github/PratikhyaManas/TensorRT/blob/master/TensorRT_Model_Inference.ipynb\" target=\"_parent\"><img src=\"https://colab.research.google.com/assets/colab-badge.svg\" alt=\"Open In Colab\"/></a>"
      ]
    },
    {
      "cell_type": "markdown",
      "metadata": {
        "id": "AKV5AQw0qFQf",
        "colab_type": "text"
      },
      "source": [
        "### Read the input image"
      ]
    },
    {
      "cell_type": "code",
      "metadata": {
        "id": "sNii27DZyciV",
        "colab_type": "code",
        "colab": {
          "base_uri": "https://localhost:8080/",
          "height": 121
        },
        "outputId": "546a31c7-5e12-4eff-f6fd-31c829d51cab"
      },
      "source": [
        "# Mounting Google Drive\n",
        "from google.colab import drive\n",
        "drive.mount('/content/drive',force_remount=True)"
      ],
      "execution_count": 1,
      "outputs": [
        {
          "output_type": "stream",
          "text": [
            "Go to this URL in a browser: https://accounts.google.com/o/oauth2/auth?client_id=947318989803-6bn6qk8qdgf4n4g3pfee6491hc0brc4i.apps.googleusercontent.com&redirect_uri=urn%3aietf%3awg%3aoauth%3a2.0%3aoob&response_type=code&scope=email%20https%3a%2f%2fwww.googleapis.com%2fauth%2fdocs.test%20https%3a%2f%2fwww.googleapis.com%2fauth%2fdrive%20https%3a%2f%2fwww.googleapis.com%2fauth%2fdrive.photos.readonly%20https%3a%2f%2fwww.googleapis.com%2fauth%2fpeopleapi.readonly\n",
            "\n",
            "Enter your authorization code:\n",
            "··········\n",
            "Mounted at /content/drive\n"
          ],
          "name": "stdout"
        }
      ]
    },
    {
      "cell_type": "code",
      "metadata": {
        "id": "NEMRMOQzqFQg",
        "colab_type": "code",
        "colab": {}
      },
      "source": [
        "# import the needed libraries\n",
        "%tensorflow_version 1.x\n",
        "import tensorflow as tf\n",
        "import tensorflow.contrib.tensorrt as trt # must import this although we will not use it explicitly\n",
        "from tensorflow.python.platform import gfile\n",
        "from PIL import Image\n",
        "import numpy as np\n",
        "import time\n",
        "from matplotlib import pyplot as plt\n",
        "\n",
        "# read the testing images (only for example)\n",
        "\n",
        "img1= Image.open(\"/content/drive/My Drive/ML_Datasets/nvidia/mnist/img_0.jpg\")\n",
        "img2= Image.open(\"/content/drive/My Drive/ML_Datasets/nvidia/mnist/img_108.jpg\")\n",
        "img1 = np.asarray(img1)\n",
        "img2 = np.asarray(img2)\n",
        "input_img = np.concatenate((img1.reshape((1, 28, 28, 1)), \n",
        "                            img2.reshape((1, 28, 28, 1))\n",
        "                            ), \n",
        "                           axis=0)"
      ],
      "execution_count": 0,
      "outputs": []
    },
    {
      "cell_type": "markdown",
      "metadata": {
        "id": "Usl9FX2dqFQj",
        "colab_type": "text"
      },
      "source": [
        "### Function to read \".pb\" model (TensorRT model is stored in \".pb\")"
      ]
    },
    {
      "cell_type": "code",
      "metadata": {
        "id": "2yhnuDaPqFQj",
        "colab_type": "code",
        "colab": {}
      },
      "source": [
        "# function to read a \".pb\" model \n",
        "# (can be used to read frozen model or TensorRT model)\n",
        "def read_pb_graph(model):\n",
        "  with gfile.FastGFile(model,'rb') as f:\n",
        "    graph_def = tf.GraphDef()\n",
        "    graph_def.ParseFromString(f.read())\n",
        "  return graph_def"
      ],
      "execution_count": 0,
      "outputs": []
    },
    {
      "cell_type": "markdown",
      "metadata": {
        "id": "vaFNEUaIqFQm",
        "colab_type": "text"
      },
      "source": [
        "### Perform inference using TensorRT model"
      ]
    },
    {
      "cell_type": "code",
      "metadata": {
        "id": "UPqqDR-jqFQm",
        "colab_type": "code",
        "colab": {
          "base_uri": "https://localhost:8080/",
          "height": 874
        },
        "outputId": "3171532b-8d7e-4af2-c773-d193890f5fd0"
      },
      "source": [
        "# variable\n",
        "TENSORRT_MODEL_PATH = '/content/drive/My Drive/ML_Datasets/nvidia/model/TensorRT_model.pb'\n",
        "\n",
        "graph = tf.Graph()\n",
        "with graph.as_default():\n",
        "    with tf.Session(config=tf.ConfigProto(gpu_options=tf.GPUOptions(per_process_gpu_memory_fraction=0.50))) as sess:\n",
        "        # read TensorRT model\n",
        "        trt_graph = read_pb_graph(TENSORRT_MODEL_PATH)\n",
        "\n",
        "        # obtain the corresponding input-output tensor\n",
        "        tf.import_graph_def(trt_graph, name='')\n",
        "        input = sess.graph.get_tensor_by_name('input_tensor_input:0')\n",
        "        output = sess.graph.get_tensor_by_name('output_tensor/Softmax:0')\n",
        "\n",
        "        # in this case, it demonstrates to perform inference for 50 times\n",
        "        total_time = 0; n_time_inference = 50\n",
        "        out_pred = sess.run(output, feed_dict={input: input_img})\n",
        "        for i in range(n_time_inference):\n",
        "            t1 = time.time()\n",
        "            out_pred = sess.run(output, feed_dict={input: input_img})\n",
        "            t2 = time.time()\n",
        "            delta_time = t2 - t1\n",
        "            total_time += delta_time\n",
        "            print(\"needed time in inference-\" + str(i) + \": \", delta_time)\n",
        "        avg_time_tensorRT = total_time / n_time_inference\n",
        "        print(\"average inference time: \", avg_time_tensorRT)"
      ],
      "execution_count": 74,
      "outputs": [
        {
          "output_type": "stream",
          "text": [
            "needed time in inference-0:  0.0013720989227294922\n",
            "needed time in inference-1:  0.0014812946319580078\n",
            "needed time in inference-2:  0.0012173652648925781\n",
            "needed time in inference-3:  0.0012531280517578125\n",
            "needed time in inference-4:  0.001216888427734375\n",
            "needed time in inference-5:  0.0012154579162597656\n",
            "needed time in inference-6:  0.0011289119720458984\n",
            "needed time in inference-7:  0.0012259483337402344\n",
            "needed time in inference-8:  0.0013017654418945312\n",
            "needed time in inference-9:  0.001007080078125\n",
            "needed time in inference-10:  0.0011546611785888672\n",
            "needed time in inference-11:  0.0010271072387695312\n",
            "needed time in inference-12:  0.0011091232299804688\n",
            "needed time in inference-13:  0.001220703125\n",
            "needed time in inference-14:  0.0012843608856201172\n",
            "needed time in inference-15:  0.001209259033203125\n",
            "needed time in inference-16:  0.001149892807006836\n",
            "needed time in inference-17:  0.0013244152069091797\n",
            "needed time in inference-18:  0.001092672348022461\n",
            "needed time in inference-19:  0.0011050701141357422\n",
            "needed time in inference-20:  0.0010683536529541016\n",
            "needed time in inference-21:  0.0010569095611572266\n",
            "needed time in inference-22:  0.0010259151458740234\n",
            "needed time in inference-23:  0.0010809898376464844\n",
            "needed time in inference-24:  0.0011057853698730469\n",
            "needed time in inference-25:  0.0010275840759277344\n",
            "needed time in inference-26:  0.0011124610900878906\n",
            "needed time in inference-27:  0.0010766983032226562\n",
            "needed time in inference-28:  0.0012021064758300781\n",
            "needed time in inference-29:  0.0010454654693603516\n",
            "needed time in inference-30:  0.001367330551147461\n",
            "needed time in inference-31:  0.0010960102081298828\n",
            "needed time in inference-32:  0.0011601448059082031\n",
            "needed time in inference-33:  0.001333475112915039\n",
            "needed time in inference-34:  0.0012011528015136719\n",
            "needed time in inference-35:  0.0014064311981201172\n",
            "needed time in inference-36:  0.0011413097381591797\n",
            "needed time in inference-37:  0.0014369487762451172\n",
            "needed time in inference-38:  0.0010960102081298828\n",
            "needed time in inference-39:  0.0013880729675292969\n",
            "needed time in inference-40:  0.0011730194091796875\n",
            "needed time in inference-41:  0.0013179779052734375\n",
            "needed time in inference-42:  0.0012323856353759766\n",
            "needed time in inference-43:  0.0011506080627441406\n",
            "needed time in inference-44:  0.001417398452758789\n",
            "needed time in inference-45:  0.0011823177337646484\n",
            "needed time in inference-46:  0.0010068416595458984\n",
            "needed time in inference-47:  0.0012688636779785156\n",
            "needed time in inference-48:  0.0010306835174560547\n",
            "needed time in inference-49:  0.0011646747589111328\n",
            "average inference time:  0.001189422607421875\n"
          ],
          "name": "stdout"
        }
      ]
    },
    {
      "cell_type": "markdown",
      "metadata": {
        "id": "Ckt-TEHOqFQp",
        "colab_type": "text"
      },
      "source": [
        "### Perform inference using the original tensorflow model"
      ]
    },
    {
      "cell_type": "code",
      "metadata": {
        "id": "T_zJHZrGqFQp",
        "colab_type": "code",
        "colab": {
          "base_uri": "https://localhost:8080/",
          "height": 890
        },
        "outputId": "946336eb-52b6-41b1-de3a-90ecf49617ec"
      },
      "source": [
        "# variable\n",
        "FROZEN_MODEL_PATH = '/content/drive/My Drive/ML_Datasets/nvidia/model/frozen_model.pb'\n",
        "\n",
        "graph = tf.Graph()\n",
        "with graph.as_default():\n",
        "    with tf.Session() as sess:\n",
        "        # read TensorRT model\n",
        "        frozen_graph = read_pb_graph(FROZEN_MODEL_PATH)\n",
        "\n",
        "        # obtain the corresponding input-output tensor\n",
        "        tf.import_graph_def(frozen_graph, name='')\n",
        "        input = sess.graph.get_tensor_by_name('input_tensor_input:0')\n",
        "        output = sess.graph.get_tensor_by_name('output_tensor/Softmax:0')\n",
        "\n",
        "        # in this case, it demonstrates to perform inference for 50 times\n",
        "        total_time = 0; n_time_inference = 50\n",
        "        out_pred = sess.run(output, feed_dict={input: input_img})\n",
        "        for i in range(n_time_inference):\n",
        "            t1 = time.time()\n",
        "            out_pred = sess.run(output, feed_dict={input: input_img})\n",
        "            t2 = time.time()\n",
        "            delta_time = t2 - t1\n",
        "            total_time += delta_time\n",
        "            print(\"needed time in inference-\" + str(i) + \": \", delta_time)\n",
        "        avg_time_original_model = total_time / n_time_inference\n",
        "        print(\"average inference time: \", avg_time_original_model)\n",
        "        print(\"TensorRT improvement compared to the original model:\", avg_time_original_model/avg_time_tensorRT)"
      ],
      "execution_count": 75,
      "outputs": [
        {
          "output_type": "stream",
          "text": [
            "needed time in inference-0:  0.0011343955993652344\n",
            "needed time in inference-1:  0.0013349056243896484\n",
            "needed time in inference-2:  0.0012693405151367188\n",
            "needed time in inference-3:  0.0011720657348632812\n",
            "needed time in inference-4:  0.0011017322540283203\n",
            "needed time in inference-5:  0.0012035369873046875\n",
            "needed time in inference-6:  0.001096487045288086\n",
            "needed time in inference-7:  0.0010943412780761719\n",
            "needed time in inference-8:  0.0011167526245117188\n",
            "needed time in inference-9:  0.0012805461883544922\n",
            "needed time in inference-10:  0.0012273788452148438\n",
            "needed time in inference-11:  0.001070261001586914\n",
            "needed time in inference-12:  0.001096963882446289\n",
            "needed time in inference-13:  0.0012536048889160156\n",
            "needed time in inference-14:  0.0010793209075927734\n",
            "needed time in inference-15:  0.001192331314086914\n",
            "needed time in inference-16:  0.0010187625885009766\n",
            "needed time in inference-17:  0.00099945068359375\n",
            "needed time in inference-18:  0.00115966796875\n",
            "needed time in inference-19:  0.0011372566223144531\n",
            "needed time in inference-20:  0.0011255741119384766\n",
            "needed time in inference-21:  0.0009832382202148438\n",
            "needed time in inference-22:  0.0012748241424560547\n",
            "needed time in inference-23:  0.0012388229370117188\n",
            "needed time in inference-24:  0.0011587142944335938\n",
            "needed time in inference-25:  0.0011277198791503906\n",
            "needed time in inference-26:  0.0012192726135253906\n",
            "needed time in inference-27:  0.0014190673828125\n",
            "needed time in inference-28:  0.0018322467803955078\n",
            "needed time in inference-29:  0.0014462471008300781\n",
            "needed time in inference-30:  0.0015499591827392578\n",
            "needed time in inference-31:  0.0015459060668945312\n",
            "needed time in inference-32:  0.0015289783477783203\n",
            "needed time in inference-33:  0.0017948150634765625\n",
            "needed time in inference-34:  0.002360105514526367\n",
            "needed time in inference-35:  0.0024900436401367188\n",
            "needed time in inference-36:  0.0011360645294189453\n",
            "needed time in inference-37:  0.0011706352233886719\n",
            "needed time in inference-38:  0.0012156963348388672\n",
            "needed time in inference-39:  0.0010292530059814453\n",
            "needed time in inference-40:  0.0009942054748535156\n",
            "needed time in inference-41:  0.0010781288146972656\n",
            "needed time in inference-42:  0.0009930133819580078\n",
            "needed time in inference-43:  0.001195669174194336\n",
            "needed time in inference-44:  0.0010197162628173828\n",
            "needed time in inference-45:  0.001081705093383789\n",
            "needed time in inference-46:  0.001138925552368164\n",
            "needed time in inference-47:  0.0009229183197021484\n",
            "needed time in inference-48:  0.0009737014770507812\n",
            "needed time in inference-49:  0.0010595321655273438\n",
            "average inference time:  0.0012428760528564453\n",
            "TensorRT improvement compared to the original model: 1.0449406670942911\n"
          ],
          "name": "stdout"
        }
      ]
    },
    {
      "cell_type": "markdown",
      "metadata": {
        "id": "gtu_kH_fqFQs",
        "colab_type": "text"
      },
      "source": [
        "### Plot the prediction result"
      ]
    },
    {
      "cell_type": "code",
      "metadata": {
        "id": "1-aEmB2GqFQs",
        "colab_type": "code",
        "colab": {
          "base_uri": "https://localhost:8080/",
          "height": 557
        },
        "outputId": "806ea356-b3a4-4744-db67-f624bf6d4684"
      },
      "source": [
        "# plot the prediction output\n",
        "plt.figure('img 1')\n",
        "plt.imshow(img1, cmap='gray')\n",
        "plt.title('pred:' + str(np.argmax(out_pred[0])), fontsize=22)\n",
        "\n",
        "plt.figure('img 2')\n",
        "plt.imshow(img2, cmap='gray')\n",
        "plt.title('pred:' + str(np.argmax(out_pred[1])), fontsize=22)\n",
        "\n",
        "plt.show()"
      ],
      "execution_count": 76,
      "outputs": [
        {
          "output_type": "display_data",
          "data": {
            "image/png": "[encoded data removed]",
            "text/plain": [
              "<Figure size 432x288 with 1 Axes>"
            ]
          },
          "metadata": {
            "tags": []
          }
        },
        {
          "output_type": "display_data",
          "data": {
            "image/png": "[encoded data removed]",
            "text/plain": [
              "<Figure size 432x288 with 1 Axes>"
            ]
          },
          "metadata": {
            "tags": []
          }
        }
      ]
    },
    {
      "cell_type": "code",
      "metadata": {
        "id": "SpxyEnpxqFQv",
        "colab_type": "code",
        "colab": {}
      },
      "source": [
        ""
      ],
      "execution_count": 0,
      "outputs": []
    }
  ]
}